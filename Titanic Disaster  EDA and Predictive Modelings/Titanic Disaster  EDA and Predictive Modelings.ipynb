{
 "cells": [
  {
   "cell_type": "markdown",
   "id": "3afdc9d3",
   "metadata": {},
   "source": [
    "## Titanic Dataset Overview\n",
    "\n",
    "The Titanic dataset is a famous dataset in machine learning and data analysis, containing information about passengers aboard the Titanic, which sank on its maiden voyage.\n",
    "\n",
    "### Columns in the Titanic Dataset:\n",
    "\n",
    "1. **Survived:**\n",
    "   - Indicates whether a passenger survived or not.\n",
    "   - **Values:** \n",
    "     - 0 = Did not survive\n",
    "     - 1 = Survived\n",
    "\n",
    "2. **Pclass (Passenger Class):**\n",
    "   - Represents the ticket class of the passenger.\n",
    "   - **Values:**\n",
    "     - 1 = 1st class\n",
    "     - 2 = 2nd class\n",
    "     - 3 = 3rd class\n",
    "\n",
    "3. **Name:**\n",
    "   - Name of the passenger.\n",
    "\n",
    "4. **Sex:**\n",
    "   - Gender of the passenger.\n",
    "   - **Values:**\n",
    "     - Male\n",
    "     - Female\n",
    "\n",
    "5. **Age:**\n",
    "   - Age of the passenger in years.\n",
    "\n",
    "6. **SibSp (Siblings/Spouses Aboard):**\n",
    "   - Indicates the number of siblings or spouses aboard the Titanic for a particular passenger.\n",
    "\n",
    "7. **Parch (Parents/Children Aboard):**\n",
    "   - Represents the number of parents or children aboard the Titanic for a particular passenger.\n",
    "\n",
    "8. **Ticket:**\n",
    "   - Ticket number of the passenger.\n",
    "\n",
    "9. **Fare:**\n",
    "   - The amount of money paid for the ticket by the passenger.\n",
    "\n",
    "10. **Cabin:**\n",
    "    - Cabin number where the passenger stayed (if available).\n",
    "\n",
    "11. **Embarked:**\n",
    "    - Port of embarkation for the passenger.\n",
    "    - **Values:**\n",
    "      - C = Cherbourg\n",
    "      - Q = Queenstown\n",
    "      - S = Southampton\n",
    "\n",
    "#### If this Kernel helped you in any way, some <font color=\"red\"><b>UPVOTES</b></font> would be very much appreciated\n",
    "\n",
    "### Importance of Titanic Dataset:\n",
    "\n",
    "- Utilized for predicting passenger survival based on various factors. Create a binary Logistics Regression model based on the data features."
   ]
  },
  {
   "cell_type": "markdown",
   "id": "ba3c25ff",
   "metadata": {},
   "source": [
    "#### Below are the steps which we will be basically following:\n",
    "\n",
    "1. [Step 1: Reading and Understanding the Data](#1)\n",
    "1.  [Step 2: Cleaning the Data](#2)\n",
    "    - Missing Value check\n",
    "    - Data type check\n",
    "    - Duplicate check\n",
    "1. [Step 3: Data Visualization](#3)\n",
    "    - Histogram\n",
    "    - Barplot\n",
    "    -Boxplot\n",
    "1. [Step 4: Data Preparation](#4) \n",
    "   - Dummy Variable\n",
    "   - Rescaling\n",
    "1. [Step 5: Remove Target variable from data set](#5)\n",
    "1. [Step 6: Using Various Models](#6)\n",
    "   - Logistic Regression\n",
    "   - Random Forest\n",
    "   - GBoost Model\n",
    "   - SVM\n",
    "   - KNN\n",
    "   - Decision Tree\n",
    "   - Naive Bayes\n",
    "1. [Step 7: Model Evaluation](#7)\n",
    "   - Recall\n",
    "   - Precision\n",
    "   - F1\n",
    "   - Accuracy\n",
    "   - AUC and ROC curve"
   ]
  },
  {
   "cell_type": "code",
   "execution_count": 1,
   "id": "96955e74",
   "metadata": {},
   "outputs": [],
   "source": [
    "# importing library to import data\n",
    "from ucimlrepo import fetch_ucirepo \n",
    "\n",
    "# import all libraries and dependencies for dataframe\n",
    "import pandas as pd\n",
    "import numpy as np\n",
    "import matplotlib.pyplot as plt\n",
    "import seaborn as sns\n",
    "import warnings\n",
    "warnings.filterwarnings(\"ignore\")\n",
    "from datetime import datetime, timedelta\n",
    "\n",
    "# import all libraries and dependencies for data visualization\n",
    "pd.options.display.float_format='{:.4f}'.format\n",
    "plt.rcParams['figure.figsize'] = [8,8]\n",
    "pd.set_option('display.max_columns', 500)\n",
    "pd.set_option('display.max_colwidth', -1) \n",
    "sns.set(style='darkgrid')\n",
    "import matplotlib.ticker as ticker\n",
    "import matplotlib.ticker as plticker\n",
    "\n",
    "# import all libraries and dependencies for machine learning\n",
    "from sklearn.preprocessing import LabelEncoder\n",
    "from sklearn.model_selection import train_test_split\n",
    "from sklearn import preprocessing\n",
    "from sklearn.base import TransformerMixin\n",
    "from sklearn.model_selection import train_test_split\n",
    "from sklearn.preprocessing import StandardScaler\n",
    "import statsmodels.api as sm\n",
    "from sklearn.linear_model import LogisticRegression\n",
    "from sklearn.metrics import confusion_matrix, classification_report\n",
    "from sklearn.metrics import average_precision_score\n",
    "from sklearn.metrics import roc_curve, roc_auc_score, precision_recall_curve, auc\n",
    "from sklearn.metrics import accuracy_score, precision_score, recall_score, f1_score, roc_auc_score"
   ]
  },
  {
   "cell_type": "code",
   "execution_count": 2,
   "id": "1ef70c35",
   "metadata": {},
   "outputs": [],
   "source": [
    "# Uploading the train_dataset\n",
    "df_train = pd.read_csv(\"train.csv\")"
   ]
  },
  {
   "cell_type": "markdown",
   "id": "47756aa6",
   "metadata": {},
   "source": [
    "<a id=\"1\"></a> <br>\n",
    "## Step 1 : Reading and Understanding the Data"
   ]
  },
  {
   "cell_type": "code",
   "execution_count": 3,
   "id": "e810252b",
   "metadata": {},
   "outputs": [
    {
     "data": {
      "text/html": [
       "<div>\n",
       "<style scoped>\n",
       "    .dataframe tbody tr th:only-of-type {\n",
       "        vertical-align: middle;\n",
       "    }\n",
       "\n",
       "    .dataframe tbody tr th {\n",
       "        vertical-align: top;\n",
       "    }\n",
       "\n",
       "    .dataframe thead th {\n",
       "        text-align: right;\n",
       "    }\n",
       "</style>\n",
       "<table border=\"1\" class=\"dataframe\">\n",
       "  <thead>\n",
       "    <tr style=\"text-align: right;\">\n",
       "      <th></th>\n",
       "      <th>PassengerId</th>\n",
       "      <th>Survived</th>\n",
       "      <th>Pclass</th>\n",
       "      <th>Name</th>\n",
       "      <th>Sex</th>\n",
       "      <th>Age</th>\n",
       "      <th>SibSp</th>\n",
       "      <th>Parch</th>\n",
       "      <th>Ticket</th>\n",
       "      <th>Fare</th>\n",
       "      <th>Cabin</th>\n",
       "      <th>Embarked</th>\n",
       "    </tr>\n",
       "  </thead>\n",
       "  <tbody>\n",
       "    <tr>\n",
       "      <th>0</th>\n",
       "      <td>1</td>\n",
       "      <td>0</td>\n",
       "      <td>3</td>\n",
       "      <td>Braund, Mr. Owen Harris</td>\n",
       "      <td>male</td>\n",
       "      <td>22.0000</td>\n",
       "      <td>1</td>\n",
       "      <td>0</td>\n",
       "      <td>A/5 21171</td>\n",
       "      <td>7.2500</td>\n",
       "      <td>NaN</td>\n",
       "      <td>S</td>\n",
       "    </tr>\n",
       "    <tr>\n",
       "      <th>1</th>\n",
       "      <td>2</td>\n",
       "      <td>1</td>\n",
       "      <td>1</td>\n",
       "      <td>Cumings, Mrs. John Bradley (Florence Briggs Thayer)</td>\n",
       "      <td>female</td>\n",
       "      <td>38.0000</td>\n",
       "      <td>1</td>\n",
       "      <td>0</td>\n",
       "      <td>PC 17599</td>\n",
       "      <td>71.2833</td>\n",
       "      <td>C85</td>\n",
       "      <td>C</td>\n",
       "    </tr>\n",
       "    <tr>\n",
       "      <th>2</th>\n",
       "      <td>3</td>\n",
       "      <td>1</td>\n",
       "      <td>3</td>\n",
       "      <td>Heikkinen, Miss. Laina</td>\n",
       "      <td>female</td>\n",
       "      <td>26.0000</td>\n",
       "      <td>0</td>\n",
       "      <td>0</td>\n",
       "      <td>STON/O2. 3101282</td>\n",
       "      <td>7.9250</td>\n",
       "      <td>NaN</td>\n",
       "      <td>S</td>\n",
       "    </tr>\n",
       "    <tr>\n",
       "      <th>3</th>\n",
       "      <td>4</td>\n",
       "      <td>1</td>\n",
       "      <td>1</td>\n",
       "      <td>Futrelle, Mrs. Jacques Heath (Lily May Peel)</td>\n",
       "      <td>female</td>\n",
       "      <td>35.0000</td>\n",
       "      <td>1</td>\n",
       "      <td>0</td>\n",
       "      <td>113803</td>\n",
       "      <td>53.1000</td>\n",
       "      <td>C123</td>\n",
       "      <td>S</td>\n",
       "    </tr>\n",
       "    <tr>\n",
       "      <th>4</th>\n",
       "      <td>5</td>\n",
       "      <td>0</td>\n",
       "      <td>3</td>\n",
       "      <td>Allen, Mr. William Henry</td>\n",
       "      <td>male</td>\n",
       "      <td>35.0000</td>\n",
       "      <td>0</td>\n",
       "      <td>0</td>\n",
       "      <td>373450</td>\n",
       "      <td>8.0500</td>\n",
       "      <td>NaN</td>\n",
       "      <td>S</td>\n",
       "    </tr>\n",
       "  </tbody>\n",
       "</table>\n",
       "</div>"
      ],
      "text/plain": [
       "   PassengerId  Survived  Pclass  \\\n",
       "0  1            0         3        \n",
       "1  2            1         1        \n",
       "2  3            1         3        \n",
       "3  4            1         1        \n",
       "4  5            0         3        \n",
       "\n",
       "                                                  Name     Sex     Age  SibSp  \\\n",
       "0  Braund, Mr. Owen Harris                              male   22.0000  1       \n",
       "1  Cumings, Mrs. John Bradley (Florence Briggs Thayer)  female 38.0000  1       \n",
       "2  Heikkinen, Miss. Laina                               female 26.0000  0       \n",
       "3  Futrelle, Mrs. Jacques Heath (Lily May Peel)         female 35.0000  1       \n",
       "4  Allen, Mr. William Henry                             male   35.0000  0       \n",
       "\n",
       "   Parch            Ticket    Fare Cabin Embarked  \n",
       "0  0      A/5 21171        7.2500   NaN   S        \n",
       "1  0      PC 17599         71.2833  C85   C        \n",
       "2  0      STON/O2. 3101282 7.9250   NaN   S        \n",
       "3  0      113803           53.1000  C123  S        \n",
       "4  0      373450           8.0500   NaN   S        "
      ]
     },
     "execution_count": 3,
     "metadata": {},
     "output_type": "execute_result"
    }
   ],
   "source": [
    "df_train.head()"
   ]
  },
  {
   "cell_type": "code",
   "execution_count": 4,
   "id": "d6869450",
   "metadata": {},
   "outputs": [],
   "source": [
    "# Setting PassengerId as index column\n",
    "df_train.set_index(\"PassengerId\", inplace=True)"
   ]
  },
  {
   "cell_type": "code",
   "execution_count": 5,
   "id": "9920d3b7",
   "metadata": {},
   "outputs": [
    {
     "data": {
      "text/html": [
       "<div>\n",
       "<style scoped>\n",
       "    .dataframe tbody tr th:only-of-type {\n",
       "        vertical-align: middle;\n",
       "    }\n",
       "\n",
       "    .dataframe tbody tr th {\n",
       "        vertical-align: top;\n",
       "    }\n",
       "\n",
       "    .dataframe thead th {\n",
       "        text-align: right;\n",
       "    }\n",
       "</style>\n",
       "<table border=\"1\" class=\"dataframe\">\n",
       "  <thead>\n",
       "    <tr style=\"text-align: right;\">\n",
       "      <th></th>\n",
       "      <th>Survived</th>\n",
       "      <th>Pclass</th>\n",
       "      <th>Name</th>\n",
       "      <th>Sex</th>\n",
       "      <th>Age</th>\n",
       "      <th>SibSp</th>\n",
       "      <th>Parch</th>\n",
       "      <th>Ticket</th>\n",
       "      <th>Fare</th>\n",
       "      <th>Cabin</th>\n",
       "      <th>Embarked</th>\n",
       "    </tr>\n",
       "    <tr>\n",
       "      <th>PassengerId</th>\n",
       "      <th></th>\n",
       "      <th></th>\n",
       "      <th></th>\n",
       "      <th></th>\n",
       "      <th></th>\n",
       "      <th></th>\n",
       "      <th></th>\n",
       "      <th></th>\n",
       "      <th></th>\n",
       "      <th></th>\n",
       "      <th></th>\n",
       "    </tr>\n",
       "  </thead>\n",
       "  <tbody>\n",
       "    <tr>\n",
       "      <th>1</th>\n",
       "      <td>0</td>\n",
       "      <td>3</td>\n",
       "      <td>Braund, Mr. Owen Harris</td>\n",
       "      <td>male</td>\n",
       "      <td>22.0000</td>\n",
       "      <td>1</td>\n",
       "      <td>0</td>\n",
       "      <td>A/5 21171</td>\n",
       "      <td>7.2500</td>\n",
       "      <td>NaN</td>\n",
       "      <td>S</td>\n",
       "    </tr>\n",
       "    <tr>\n",
       "      <th>2</th>\n",
       "      <td>1</td>\n",
       "      <td>1</td>\n",
       "      <td>Cumings, Mrs. John Bradley (Florence Briggs Thayer)</td>\n",
       "      <td>female</td>\n",
       "      <td>38.0000</td>\n",
       "      <td>1</td>\n",
       "      <td>0</td>\n",
       "      <td>PC 17599</td>\n",
       "      <td>71.2833</td>\n",
       "      <td>C85</td>\n",
       "      <td>C</td>\n",
       "    </tr>\n",
       "    <tr>\n",
       "      <th>3</th>\n",
       "      <td>1</td>\n",
       "      <td>3</td>\n",
       "      <td>Heikkinen, Miss. Laina</td>\n",
       "      <td>female</td>\n",
       "      <td>26.0000</td>\n",
       "      <td>0</td>\n",
       "      <td>0</td>\n",
       "      <td>STON/O2. 3101282</td>\n",
       "      <td>7.9250</td>\n",
       "      <td>NaN</td>\n",
       "      <td>S</td>\n",
       "    </tr>\n",
       "    <tr>\n",
       "      <th>4</th>\n",
       "      <td>1</td>\n",
       "      <td>1</td>\n",
       "      <td>Futrelle, Mrs. Jacques Heath (Lily May Peel)</td>\n",
       "      <td>female</td>\n",
       "      <td>35.0000</td>\n",
       "      <td>1</td>\n",
       "      <td>0</td>\n",
       "      <td>113803</td>\n",
       "      <td>53.1000</td>\n",
       "      <td>C123</td>\n",
       "      <td>S</td>\n",
       "    </tr>\n",
       "    <tr>\n",
       "      <th>5</th>\n",
       "      <td>0</td>\n",
       "      <td>3</td>\n",
       "      <td>Allen, Mr. William Henry</td>\n",
       "      <td>male</td>\n",
       "      <td>35.0000</td>\n",
       "      <td>0</td>\n",
       "      <td>0</td>\n",
       "      <td>373450</td>\n",
       "      <td>8.0500</td>\n",
       "      <td>NaN</td>\n",
       "      <td>S</td>\n",
       "    </tr>\n",
       "  </tbody>\n",
       "</table>\n",
       "</div>"
      ],
      "text/plain": [
       "             Survived  Pclass  \\\n",
       "PassengerId                     \n",
       "1            0         3        \n",
       "2            1         1        \n",
       "3            1         3        \n",
       "4            1         1        \n",
       "5            0         3        \n",
       "\n",
       "                                                            Name     Sex  \\\n",
       "PassengerId                                                                \n",
       "1            Braund, Mr. Owen Harris                              male     \n",
       "2            Cumings, Mrs. John Bradley (Florence Briggs Thayer)  female   \n",
       "3            Heikkinen, Miss. Laina                               female   \n",
       "4            Futrelle, Mrs. Jacques Heath (Lily May Peel)         female   \n",
       "5            Allen, Mr. William Henry                             male     \n",
       "\n",
       "                Age  SibSp  Parch            Ticket    Fare Cabin Embarked  \n",
       "PassengerId                                                                 \n",
       "1           22.0000  1      0      A/5 21171        7.2500   NaN   S        \n",
       "2           38.0000  1      0      PC 17599         71.2833  C85   C        \n",
       "3           26.0000  0      0      STON/O2. 3101282 7.9250   NaN   S        \n",
       "4           35.0000  1      0      113803           53.1000  C123  S        \n",
       "5           35.0000  0      0      373450           8.0500   NaN   S        "
      ]
     },
     "execution_count": 5,
     "metadata": {},
     "output_type": "execute_result"
    }
   ],
   "source": [
    "df_train.head()"
   ]
  },
  {
   "cell_type": "code",
   "execution_count": 6,
   "id": "c1acf4dd",
   "metadata": {},
   "outputs": [
    {
     "data": {
      "text/plain": [
       "(891, 11)"
      ]
     },
     "execution_count": 6,
     "metadata": {},
     "output_type": "execute_result"
    }
   ],
   "source": [
    "# shape of the data\n",
    "df_train.shape"
   ]
  },
  {
   "cell_type": "code",
   "execution_count": 7,
   "id": "e60764bd",
   "metadata": {},
   "outputs": [
    {
     "data": {
      "text/plain": [
       "Index(['Survived', 'Pclass', 'Name', 'Sex', 'Age', 'SibSp', 'Parch', 'Ticket',\n",
       "       'Fare', 'Cabin', 'Embarked'],\n",
       "      dtype='object')"
      ]
     },
     "execution_count": 7,
     "metadata": {},
     "output_type": "execute_result"
    }
   ],
   "source": [
    "# Columns of dataset\n",
    "df_train.columns"
   ]
  },
  {
   "cell_type": "code",
   "execution_count": 8,
   "id": "bc142384",
   "metadata": {},
   "outputs": [
    {
     "name": "stdout",
     "output_type": "stream",
     "text": [
      "<class 'pandas.core.frame.DataFrame'>\n",
      "Int64Index: 891 entries, 1 to 891\n",
      "Data columns (total 11 columns):\n",
      " #   Column    Non-Null Count  Dtype  \n",
      "---  ------    --------------  -----  \n",
      " 0   Survived  891 non-null    int64  \n",
      " 1   Pclass    891 non-null    int64  \n",
      " 2   Name      891 non-null    object \n",
      " 3   Sex       891 non-null    object \n",
      " 4   Age       714 non-null    float64\n",
      " 5   SibSp     891 non-null    int64  \n",
      " 6   Parch     891 non-null    int64  \n",
      " 7   Ticket    891 non-null    object \n",
      " 8   Fare      891 non-null    float64\n",
      " 9   Cabin     204 non-null    object \n",
      " 10  Embarked  889 non-null    object \n",
      "dtypes: float64(2), int64(4), object(5)\n",
      "memory usage: 83.5+ KB\n"
     ]
    }
   ],
   "source": [
    "# information of the data\n",
    "df_train.info()"
   ]
  },
  {
   "cell_type": "markdown",
   "id": "2b65ca2b",
   "metadata": {},
   "source": [
    "* Insight : There are null values in Age column and Cabin column. As Cabin coluns id not inmoratant for my model. So, I can remove Cabin column. But we need to take care of Age culumn."
   ]
  },
  {
   "cell_type": "code",
   "execution_count": 9,
   "id": "1efdd047",
   "metadata": {},
   "outputs": [
    {
     "data": {
      "text/html": [
       "<div>\n",
       "<style scoped>\n",
       "    .dataframe tbody tr th:only-of-type {\n",
       "        vertical-align: middle;\n",
       "    }\n",
       "\n",
       "    .dataframe tbody tr th {\n",
       "        vertical-align: top;\n",
       "    }\n",
       "\n",
       "    .dataframe thead th {\n",
       "        text-align: right;\n",
       "    }\n",
       "</style>\n",
       "<table border=\"1\" class=\"dataframe\">\n",
       "  <thead>\n",
       "    <tr style=\"text-align: right;\">\n",
       "      <th></th>\n",
       "      <th>count</th>\n",
       "      <th>mean</th>\n",
       "      <th>std</th>\n",
       "      <th>min</th>\n",
       "      <th>25%</th>\n",
       "      <th>50%</th>\n",
       "      <th>75%</th>\n",
       "      <th>max</th>\n",
       "    </tr>\n",
       "  </thead>\n",
       "  <tbody>\n",
       "    <tr>\n",
       "      <th>Survived</th>\n",
       "      <td>891.0000</td>\n",
       "      <td>0.3838</td>\n",
       "      <td>0.4866</td>\n",
       "      <td>0.0000</td>\n",
       "      <td>0.0000</td>\n",
       "      <td>0.0000</td>\n",
       "      <td>1.0000</td>\n",
       "      <td>1.0000</td>\n",
       "    </tr>\n",
       "    <tr>\n",
       "      <th>Pclass</th>\n",
       "      <td>891.0000</td>\n",
       "      <td>2.3086</td>\n",
       "      <td>0.8361</td>\n",
       "      <td>1.0000</td>\n",
       "      <td>2.0000</td>\n",
       "      <td>3.0000</td>\n",
       "      <td>3.0000</td>\n",
       "      <td>3.0000</td>\n",
       "    </tr>\n",
       "    <tr>\n",
       "      <th>Age</th>\n",
       "      <td>714.0000</td>\n",
       "      <td>29.6991</td>\n",
       "      <td>14.5265</td>\n",
       "      <td>0.4200</td>\n",
       "      <td>20.1250</td>\n",
       "      <td>28.0000</td>\n",
       "      <td>38.0000</td>\n",
       "      <td>80.0000</td>\n",
       "    </tr>\n",
       "    <tr>\n",
       "      <th>SibSp</th>\n",
       "      <td>891.0000</td>\n",
       "      <td>0.5230</td>\n",
       "      <td>1.1027</td>\n",
       "      <td>0.0000</td>\n",
       "      <td>0.0000</td>\n",
       "      <td>0.0000</td>\n",
       "      <td>1.0000</td>\n",
       "      <td>8.0000</td>\n",
       "    </tr>\n",
       "    <tr>\n",
       "      <th>Parch</th>\n",
       "      <td>891.0000</td>\n",
       "      <td>0.3816</td>\n",
       "      <td>0.8061</td>\n",
       "      <td>0.0000</td>\n",
       "      <td>0.0000</td>\n",
       "      <td>0.0000</td>\n",
       "      <td>0.0000</td>\n",
       "      <td>6.0000</td>\n",
       "    </tr>\n",
       "    <tr>\n",
       "      <th>Fare</th>\n",
       "      <td>891.0000</td>\n",
       "      <td>32.2042</td>\n",
       "      <td>49.6934</td>\n",
       "      <td>0.0000</td>\n",
       "      <td>7.9104</td>\n",
       "      <td>14.4542</td>\n",
       "      <td>31.0000</td>\n",
       "      <td>512.3292</td>\n",
       "    </tr>\n",
       "  </tbody>\n",
       "</table>\n",
       "</div>"
      ],
      "text/plain": [
       "            count    mean     std    min     25%     50%     75%      max\n",
       "Survived 891.0000 0.3838  0.4866  0.0000 0.0000  0.0000  1.0000  1.0000  \n",
       "Pclass   891.0000 2.3086  0.8361  1.0000 2.0000  3.0000  3.0000  3.0000  \n",
       "Age      714.0000 29.6991 14.5265 0.4200 20.1250 28.0000 38.0000 80.0000 \n",
       "SibSp    891.0000 0.5230  1.1027  0.0000 0.0000  0.0000  1.0000  8.0000  \n",
       "Parch    891.0000 0.3816  0.8061  0.0000 0.0000  0.0000  0.0000  6.0000  \n",
       "Fare     891.0000 32.2042 49.6934 0.0000 7.9104  14.4542 31.0000 512.3292"
      ]
     },
     "execution_count": 9,
     "metadata": {},
     "output_type": "execute_result"
    }
   ],
   "source": [
    "# description of the data\n",
    "df_train.describe().T"
   ]
  },
  {
   "cell_type": "markdown",
   "id": "857e7448",
   "metadata": {},
   "source": [
    "* Insight: The mean survival rate is approx 38%."
   ]
  },
  {
   "cell_type": "markdown",
   "id": "4ba11441",
   "metadata": {},
   "source": [
    "<a id=\"2\"></a> <br>\n",
    "## Step 2: Cleaning the Data"
   ]
  },
  {
   "cell_type": "code",
   "execution_count": 10,
   "id": "eb61285b",
   "metadata": {},
   "outputs": [
    {
     "data": {
      "text/plain": [
       "Cabin      77.1000\n",
       "Age        19.8700\n",
       "Embarked   0.2200 \n",
       "Survived   0.0000 \n",
       "Pclass     0.0000 \n",
       "dtype: float64"
      ]
     },
     "execution_count": 10,
     "metadata": {},
     "output_type": "execute_result"
    }
   ],
   "source": [
    "# Calculating the Missing Values % contribution in DF\n",
    "\n",
    "df_null = df_train.isna().mean().round(4) * 100\n",
    "\n",
    "df_null.sort_values(ascending=False).head()"
   ]
  },
  {
   "cell_type": "markdown",
   "id": "1681bc4a",
   "metadata": {},
   "source": [
    "* Insigt : The columns Cabin, Age and Embarked have missing values."
   ]
  },
  {
   "cell_type": "code",
   "execution_count": 11,
   "id": "b897c528",
   "metadata": {},
   "outputs": [],
   "source": [
    "# Deleting some columns those are not important for model\n",
    "df_train.drop([\"Cabin\", \"Name\", \"Ticket\"], axis = 1, inplace=True)"
   ]
  },
  {
   "cell_type": "code",
   "execution_count": 12,
   "id": "5b74ab01",
   "metadata": {},
   "outputs": [
    {
     "data": {
      "text/html": [
       "<div>\n",
       "<style scoped>\n",
       "    .dataframe tbody tr th:only-of-type {\n",
       "        vertical-align: middle;\n",
       "    }\n",
       "\n",
       "    .dataframe tbody tr th {\n",
       "        vertical-align: top;\n",
       "    }\n",
       "\n",
       "    .dataframe thead th {\n",
       "        text-align: right;\n",
       "    }\n",
       "</style>\n",
       "<table border=\"1\" class=\"dataframe\">\n",
       "  <thead>\n",
       "    <tr style=\"text-align: right;\">\n",
       "      <th></th>\n",
       "      <th>Survived</th>\n",
       "      <th>Pclass</th>\n",
       "      <th>Sex</th>\n",
       "      <th>Age</th>\n",
       "      <th>SibSp</th>\n",
       "      <th>Parch</th>\n",
       "      <th>Fare</th>\n",
       "      <th>Embarked</th>\n",
       "    </tr>\n",
       "    <tr>\n",
       "      <th>PassengerId</th>\n",
       "      <th></th>\n",
       "      <th></th>\n",
       "      <th></th>\n",
       "      <th></th>\n",
       "      <th></th>\n",
       "      <th></th>\n",
       "      <th></th>\n",
       "      <th></th>\n",
       "    </tr>\n",
       "  </thead>\n",
       "  <tbody>\n",
       "    <tr>\n",
       "      <th>1</th>\n",
       "      <td>0</td>\n",
       "      <td>3</td>\n",
       "      <td>male</td>\n",
       "      <td>22.0000</td>\n",
       "      <td>1</td>\n",
       "      <td>0</td>\n",
       "      <td>7.2500</td>\n",
       "      <td>S</td>\n",
       "    </tr>\n",
       "    <tr>\n",
       "      <th>2</th>\n",
       "      <td>1</td>\n",
       "      <td>1</td>\n",
       "      <td>female</td>\n",
       "      <td>38.0000</td>\n",
       "      <td>1</td>\n",
       "      <td>0</td>\n",
       "      <td>71.2833</td>\n",
       "      <td>C</td>\n",
       "    </tr>\n",
       "    <tr>\n",
       "      <th>3</th>\n",
       "      <td>1</td>\n",
       "      <td>3</td>\n",
       "      <td>female</td>\n",
       "      <td>26.0000</td>\n",
       "      <td>0</td>\n",
       "      <td>0</td>\n",
       "      <td>7.9250</td>\n",
       "      <td>S</td>\n",
       "    </tr>\n",
       "    <tr>\n",
       "      <th>4</th>\n",
       "      <td>1</td>\n",
       "      <td>1</td>\n",
       "      <td>female</td>\n",
       "      <td>35.0000</td>\n",
       "      <td>1</td>\n",
       "      <td>0</td>\n",
       "      <td>53.1000</td>\n",
       "      <td>S</td>\n",
       "    </tr>\n",
       "    <tr>\n",
       "      <th>5</th>\n",
       "      <td>0</td>\n",
       "      <td>3</td>\n",
       "      <td>male</td>\n",
       "      <td>35.0000</td>\n",
       "      <td>0</td>\n",
       "      <td>0</td>\n",
       "      <td>8.0500</td>\n",
       "      <td>S</td>\n",
       "    </tr>\n",
       "  </tbody>\n",
       "</table>\n",
       "</div>"
      ],
      "text/plain": [
       "             Survived  Pclass     Sex     Age  SibSp  Parch    Fare Embarked\n",
       "PassengerId                                                                 \n",
       "1            0         3       male   22.0000  1      0     7.2500   S      \n",
       "2            1         1       female 38.0000  1      0     71.2833  C      \n",
       "3            1         3       female 26.0000  0      0     7.9250   S      \n",
       "4            1         1       female 35.0000  1      0     53.1000  S      \n",
       "5            0         3       male   35.0000  0      0     8.0500   S      "
      ]
     },
     "execution_count": 12,
     "metadata": {},
     "output_type": "execute_result"
    }
   ],
   "source": [
    "df_train.head()"
   ]
  },
  {
   "cell_type": "code",
   "execution_count": 13,
   "id": "378288e0",
   "metadata": {},
   "outputs": [
    {
     "data": {
      "text/plain": [
       "(891, 8)"
      ]
     },
     "execution_count": 13,
     "metadata": {},
     "output_type": "execute_result"
    }
   ],
   "source": [
    "# shape of the data\n",
    "df_train.shape"
   ]
  },
  {
   "cell_type": "code",
   "execution_count": 14,
   "id": "b381ab12",
   "metadata": {},
   "outputs": [
    {
     "data": {
      "text/plain": [
       "array([0, 1])"
      ]
     },
     "execution_count": 14,
     "metadata": {},
     "output_type": "execute_result"
    }
   ],
   "source": [
    "df_train['Survived'].unique()"
   ]
  },
  {
   "cell_type": "code",
   "execution_count": 15,
   "id": "8cccd370",
   "metadata": {},
   "outputs": [
    {
     "data": {
      "text/plain": [
       "177"
      ]
     },
     "execution_count": 15,
     "metadata": {},
     "output_type": "execute_result"
    }
   ],
   "source": [
    "df_train['Age'].isna().sum()"
   ]
  },
  {
   "cell_type": "code",
   "execution_count": 16,
   "id": "acd75e4d",
   "metadata": {},
   "outputs": [
    {
     "name": "stdout",
     "output_type": "stream",
     "text": [
      "The 99th percentile for the 'Fare' column is: 345.28\n"
     ]
    }
   ],
   "source": [
    "# 99.7% percentile of train dataset\n",
    "fare_99th_percentile = df_train['Fare'].quantile(0.997)\n",
    "print(f\"The 99th percentile for the 'Fare' column is: {fare_99th_percentile:.2f}\")"
   ]
  },
  {
   "cell_type": "code",
   "execution_count": 17,
   "id": "57e3740d",
   "metadata": {},
   "outputs": [
    {
     "data": {
      "text/html": [
       "<div>\n",
       "<style scoped>\n",
       "    .dataframe tbody tr th:only-of-type {\n",
       "        vertical-align: middle;\n",
       "    }\n",
       "\n",
       "    .dataframe tbody tr th {\n",
       "        vertical-align: top;\n",
       "    }\n",
       "\n",
       "    .dataframe thead th {\n",
       "        text-align: right;\n",
       "    }\n",
       "</style>\n",
       "<table border=\"1\" class=\"dataframe\">\n",
       "  <thead>\n",
       "    <tr style=\"text-align: right;\">\n",
       "      <th></th>\n",
       "      <th>Survived</th>\n",
       "      <th>Pclass</th>\n",
       "      <th>Sex</th>\n",
       "      <th>Age</th>\n",
       "      <th>SibSp</th>\n",
       "      <th>Parch</th>\n",
       "      <th>Fare</th>\n",
       "      <th>Embarked</th>\n",
       "    </tr>\n",
       "    <tr>\n",
       "      <th>PassengerId</th>\n",
       "      <th></th>\n",
       "      <th></th>\n",
       "      <th></th>\n",
       "      <th></th>\n",
       "      <th></th>\n",
       "      <th></th>\n",
       "      <th></th>\n",
       "      <th></th>\n",
       "    </tr>\n",
       "  </thead>\n",
       "  <tbody>\n",
       "    <tr>\n",
       "      <th>259</th>\n",
       "      <td>1</td>\n",
       "      <td>1</td>\n",
       "      <td>female</td>\n",
       "      <td>35.0000</td>\n",
       "      <td>0</td>\n",
       "      <td>0</td>\n",
       "      <td>512.3292</td>\n",
       "      <td>C</td>\n",
       "    </tr>\n",
       "    <tr>\n",
       "      <th>680</th>\n",
       "      <td>1</td>\n",
       "      <td>1</td>\n",
       "      <td>male</td>\n",
       "      <td>36.0000</td>\n",
       "      <td>0</td>\n",
       "      <td>1</td>\n",
       "      <td>512.3292</td>\n",
       "      <td>C</td>\n",
       "    </tr>\n",
       "    <tr>\n",
       "      <th>738</th>\n",
       "      <td>1</td>\n",
       "      <td>1</td>\n",
       "      <td>male</td>\n",
       "      <td>35.0000</td>\n",
       "      <td>0</td>\n",
       "      <td>0</td>\n",
       "      <td>512.3292</td>\n",
       "      <td>C</td>\n",
       "    </tr>\n",
       "  </tbody>\n",
       "</table>\n",
       "</div>"
      ],
      "text/plain": [
       "             Survived  Pclass     Sex     Age  SibSp  Parch     Fare Embarked\n",
       "PassengerId                                                                  \n",
       "259          1         1       female 35.0000  0      0     512.3292  C      \n",
       "680          1         1       male   36.0000  0      1     512.3292  C      \n",
       "738          1         1       male   35.0000  0      0     512.3292  C      "
      ]
     },
     "execution_count": 17,
     "metadata": {},
     "output_type": "execute_result"
    }
   ],
   "source": [
    "df_train[df_train[\"Fare\"]>=345.28]"
   ]
  },
  {
   "cell_type": "markdown",
   "id": "5d5104eb",
   "metadata": {},
   "source": [
    "<a id=\"3\"></a> <br>\n",
    "## Step 3: Visualising the Data\n",
    "\n",
    "- Here we will identify if some predictors directly have a strong association with the outcome variable `Survived`."
   ]
  },
  {
   "cell_type": "markdown",
   "id": "d55fa57e",
   "metadata": {},
   "source": [
    "#### What can we check - Titanic Dataset:\n",
    "\n",
    "Before delving into visualization steps, I recommend watching the `Titanic movie` to gain insights into the actual events. Here's what we aim to explore in the dataset based on correlations from the movie:\n",
    "\n",
    "#### Survival Analysis:\n",
    "1. **Total Survivors:** Understanding the overall count of survivors.\n",
    "2. **Gender Disparity:** Exploring how gender impacted survival rates, noting if women had a higher survival count.\n",
    "3. **Impact of Parenthood:** Analyzing if individuals with children were more likely to survive.\n",
    "4. **Class-Based Survival:** Investigating the correlation between ticket classes and survival rates, specifically identifying the survival ratio among different ticket classes.\n",
    "\n",
    "By referencing these insights from the historical Titanic event portrayed in the movie, we aim to draw parallels in our dataset analysis and potentially leverage these observations in our predictive modeling process.\n"
   ]
  },
  {
   "cell_type": "code",
   "execution_count": 18,
   "id": "a4ac5670",
   "metadata": {},
   "outputs": [
    {
     "name": "stdout",
     "output_type": "stream",
     "text": [
      "Survived : 38.38 %\n",
      "Not Survived : 61.62 %\n"
     ]
    }
   ],
   "source": [
    "print('Survived :', round(df_train['Survived'].value_counts()[1]/len(df_train) * 100,2), '%')\n",
    "print('Not Survived :', round(df_train['Survived'].value_counts()[0]/len(df_train) * 100,2), '%')"
   ]
  },
  {
   "cell_type": "code",
   "execution_count": 19,
   "id": "2e0be2ea",
   "metadata": {},
   "outputs": [
    {
     "data": {
      "image/png": "[encoded data removed]",
      "text/plain": [
       "<Figure size 800x600 with 1 Axes>"
      ]
     },
     "metadata": {},
     "output_type": "display_data"
    }
   ],
   "source": [
    "plt.figure(figsize=(8, 6))\n",
    "\n",
    "def addlabels(x, y):\n",
    "    for i in range(len(x)):\n",
    "        plt.text(i, y[i]//2, y[i], ha='center',\n",
    "                 bbox=dict(facecolor='white', alpha=0.5))\n",
    "\n",
    "\n",
    "x = ['0', '1']  \n",
    "y = [np.sum(df_train['Survived'] == 0), np.sum(df_train['Survived'] == 1)]\n",
    "\n",
    "sns.countplot(data=df_train, x='Survived', edgecolor='k', palette='Set2')\n",
    "addlabels(x, y)\n",
    "\n",
    "plt.title('Survived Count \\n(0 || 1)')\n",
    "plt.xlabel('Survived')\n",
    "plt.legend(title=\"Survived\", labels=[\"0\", \"1\"])\n",
    "plt.show()\n"
   ]
  },
  {
   "cell_type": "code",
   "execution_count": 20,
   "id": "147ad75b",
   "metadata": {},
   "outputs": [
    {
     "data": {
      "image/png": "[encoded data removed]",
      "text/plain": [
       "<Figure size 800x600 with 1 Axes>"
      ]
     },
     "metadata": {},
     "output_type": "display_data"
    }
   ],
   "source": [
    "plt.figure(figsize=(8, 6))\n",
    "sns.countplot(data=df_train, x='Survived', hue='Sex', palette='Set2')\n",
    "plt.title('Survival Count by Gender')\n",
    "plt.xlabel('Survived')\n",
    "plt.legend(title='Sex', labels=['Male', 'Female'])  # Adding legend labels\n",
    "\n",
    "plt.show()"
   ]
  },
  {
   "cell_type": "markdown",
   "id": "dac09a14",
   "metadata": {},
   "source": [
    "* Insight: the count of survived female is more than the count of survived male."
   ]
  },
  {
   "cell_type": "code",
   "execution_count": 21,
   "id": "6cf3f267",
   "metadata": {},
   "outputs": [
    {
     "data": {
      "image/png": "[encoded data removed]",
      "text/plain": [
       "<Figure size 1000x600 with 1 Axes>"
      ]
     },
     "metadata": {},
     "output_type": "display_data"
    }
   ],
   "source": [
    "plt.figure(figsize=(10, 6))\n",
    "ax = sns.distplot(df_train['Age'], hist_kws=dict(edgecolor=\"k\", linewidth=2), kde_kws={\"color\": \"#ce0d55\", \"lw\": 2})\n",
    "ax.set_title('Age Distribution')\n",
    "ax.set_xlabel('Age')\n",
    "plt.show()"
   ]
  },
  {
   "cell_type": "markdown",
   "id": "12f9803b",
   "metadata": {},
   "source": [
    "* Insight: Mostly passangers are between the age group of 20 years to 40 years."
   ]
  },
  {
   "cell_type": "code",
   "execution_count": 22,
   "id": "5f0bcbc5",
   "metadata": {},
   "outputs": [],
   "source": [
    "# Handling missing value in Age column\n",
    "\n",
    "# Calculate the mean age\n",
    "mean_age = df_train['Age'].mean()\n",
    "\n",
    "# Fill missing values in the 'Age' column with the mean age\n",
    "df_train['Age'].fillna(mean_age, inplace=True)"
   ]
  },
  {
   "cell_type": "code",
   "execution_count": 23,
   "id": "2c54d9cf",
   "metadata": {},
   "outputs": [
    {
     "data": {
      "image/png": "[encoded data removed]",
      "text/plain": [
       "<Figure size 800x600 with 1 Axes>"
      ]
     },
     "metadata": {},
     "output_type": "display_data"
    }
   ],
   "source": [
    "plt.figure(figsize=(8, 6))\n",
    "sns.countplot(data=df_train, x='Embarked', palette='Set2')\n",
    "\n",
    "plt.title('Passenger Count by Embarkation Port')\n",
    "plt.xlabel('Embarkation Port')\n",
    "plt.ylabel('Passenger Count')\n",
    "\n",
    "plt.show()"
   ]
  },
  {
   "cell_type": "code",
   "execution_count": 24,
   "id": "5807aada",
   "metadata": {},
   "outputs": [],
   "source": [
    "# Calculate the mode (most frequent value) for the 'Embarked' column (i.e., S)\n",
    "mode_embarked = df_train['Embarked'].mode()[0]\n",
    "\n",
    "# Fill missing values in the 'Embarked' column with the mode value\n",
    "df_train['Embarked'].fillna(mode_embarked, inplace=True)"
   ]
  },
  {
   "cell_type": "code",
   "execution_count": 25,
   "id": "00e88acc",
   "metadata": {},
   "outputs": [
    {
     "data": {
      "text/plain": [
       "Survived    0\n",
       "Pclass      0\n",
       "Sex         0\n",
       "Age         0\n",
       "SibSp       0\n",
       "Parch       0\n",
       "Fare        0\n",
       "Embarked    0\n",
       "dtype: int64"
      ]
     },
     "execution_count": 25,
     "metadata": {},
     "output_type": "execute_result"
    }
   ],
   "source": [
    "# Calculating the Missing Values % contribution in DF\n",
    "\n",
    "df_train.isna().sum()"
   ]
  },
  {
   "cell_type": "code",
   "execution_count": 26,
   "id": "3451f74c",
   "metadata": {},
   "outputs": [
    {
     "data": {
      "image/png": "[encoded data removed]",
      "text/plain": [
       "<Figure size 800x600 with 1 Axes>"
      ]
     },
     "metadata": {},
     "output_type": "display_data"
    }
   ],
   "source": [
    "plt.figure(figsize=(8, 6))\n",
    "sns.countplot(data=df_train, x='Pclass', hue='Survived', palette='Set1')\n",
    "\n",
    "# Adding title and labels to the plot\n",
    "plt.title('Survival Count by Passenger Class')\n",
    "plt.xlabel('Passenger Class')\n",
    "plt.ylabel('Survival Count')\n",
    "plt.legend(title='Survived', labels=['No', 'Yes'])\n",
    "\n",
    "plt.show()\n"
   ]
  },
  {
   "cell_type": "markdown",
   "id": "8ee60b24",
   "metadata": {},
   "source": [
    "* Insight : For first-class passengers, their chances of survival were higher compared to third-class passengers. However, for second-class passengers, the rates of survival or death were similar."
   ]
  },
  {
   "cell_type": "code",
   "execution_count": 27,
   "id": "14cd4462",
   "metadata": {},
   "outputs": [
    {
     "data": {
      "image/png": "[encoded data removed]",
      "text/plain": [
       "<Figure size 800x600 with 1 Axes>"
      ]
     },
     "metadata": {},
     "output_type": "display_data"
    }
   ],
   "source": [
    "# Create a boxplot for the 'Fare' column\n",
    "plt.figure(figsize=(8, 6))  # Set the size of the plot\n",
    "sns.boxplot(x='Fare', data=df_train, orient='v', palette='Set2')\n",
    "plt.title('Boxplot of Fare Column')\n",
    "plt.ylabel('Fare')\n",
    "plt.show()"
   ]
  },
  {
   "cell_type": "code",
   "execution_count": 28,
   "id": "8aede266",
   "metadata": {},
   "outputs": [],
   "source": [
    "df_train = df_train[df_train['Fare'] <= 345.28].copy()"
   ]
  },
  {
   "cell_type": "markdown",
   "id": "11274cb4",
   "metadata": {},
   "source": [
    "* Insight: Filtering observations with fare prices exceeding the 99.7th percentile could enhance model accuracy by mitigating the influence of outlier fares. Eliminating exceptionally high fare prices, likely rare anomalies, can lead to a more robust and accurate model by focusing on general fare price patterns.\n"
   ]
  },
  {
   "cell_type": "code",
   "execution_count": 29,
   "id": "495a04e8",
   "metadata": {},
   "outputs": [
    {
     "data": {
      "image/png": "[encoded data removed]",
      "text/plain": [
       "<Figure size 800x600 with 1 Axes>"
      ]
     },
     "metadata": {},
     "output_type": "display_data"
    }
   ],
   "source": [
    "plt.figure(figsize=(8, 6))\n",
    "sns.boxplot(data=df_train, x='Survived', y='Fare', palette='Set2')\n",
    "\n",
    "# Adding title and labels to the plot\n",
    "plt.title('Fare Distribution for Survivors and Non-Survivors')\n",
    "plt.xlabel('Survived')\n",
    "plt.ylabel('Fare')\n",
    "plt.xticks([0, 1], ['No', 'Yes'])  # Changing x-axis ticks to 'No' and 'Yes' for better readability\n",
    "\n",
    "plt.show()\n"
   ]
  },
  {
   "cell_type": "markdown",
   "id": "9db8b52c",
   "metadata": {},
   "source": [
    "* Insight: The survival rate is higher for those who purchased more expensive (costly) tickets."
   ]
  },
  {
   "cell_type": "code",
   "execution_count": 30,
   "id": "5a4eaddc",
   "metadata": {},
   "outputs": [],
   "source": [
    "# Segregation of Numerical and Categorical Variables/Columns\n",
    "\n",
    "cat_col = df_train.select_dtypes(include=['object']).columns\n",
    "num_col = df_train.select_dtypes(exclude=['object']).columns\n",
    "df_cat = df_train[cat_col]\n",
    "df_num = df_train[num_col]"
   ]
  },
  {
   "cell_type": "code",
   "execution_count": 31,
   "id": "ac219a71",
   "metadata": {},
   "outputs": [
    {
     "data": {
      "image/png": "[encoded data removed]",
      "text/plain": [
       "<Figure size 1000x800 with 2 Axes>"
      ]
     },
     "metadata": {},
     "output_type": "display_data"
    }
   ],
   "source": [
    "corr_train = df_num\n",
    "plt.figure(figsize=(10, 8))\n",
    "ax = sns.heatmap(corr_train.corr(), cmap='RdYlGn', annot=True)\n",
    "ax.set_title('Correlation Map')\n",
    "plt.show()"
   ]
  },
  {
   "cell_type": "markdown",
   "id": "8fdd7ec5",
   "metadata": {},
   "source": [
    "### Insights:\n",
    "\n",
    "- There is a notable correlation between 'Fare' and 'Survived'. Passengers who paid higher fares tended to have a higher survival rate.\n",
    "- Additionally, a positive correlation exists between 'Parch' (number of parents/children aboard) and 'Survived'. Higher values in the 'Parch' column are associated with a higher likelihood of survival.\n",
    "- Both 'Fare' and 'Parch' columns demonstrate significance and relevance for our predictive model, indicating their importance in predicting passenger survival.\n"
   ]
  },
  {
   "cell_type": "markdown",
   "id": "31da314d",
   "metadata": {},
   "source": [
    "<a id=\"4\"></a> <br>\n",
    "## Step 4: Data Preparation"
   ]
  },
  {
   "cell_type": "markdown",
   "id": "a779f68a",
   "metadata": {},
   "source": [
    "Convert the categorical variables to numeric.\n",
    "\n",
    "For this, we will use something called `dummy variables`."
   ]
  },
  {
   "cell_type": "code",
   "execution_count": 32,
   "id": "862361c4",
   "metadata": {},
   "outputs": [
    {
     "data": {
      "text/html": [
       "<div>\n",
       "<style scoped>\n",
       "    .dataframe tbody tr th:only-of-type {\n",
       "        vertical-align: middle;\n",
       "    }\n",
       "\n",
       "    .dataframe tbody tr th {\n",
       "        vertical-align: top;\n",
       "    }\n",
       "\n",
       "    .dataframe thead th {\n",
       "        text-align: right;\n",
       "    }\n",
       "</style>\n",
       "<table border=\"1\" class=\"dataframe\">\n",
       "  <thead>\n",
       "    <tr style=\"text-align: right;\">\n",
       "      <th></th>\n",
       "      <th>Survived</th>\n",
       "      <th>Pclass</th>\n",
       "      <th>Age</th>\n",
       "      <th>SibSp</th>\n",
       "      <th>Parch</th>\n",
       "      <th>Fare</th>\n",
       "      <th>Embarked_Q</th>\n",
       "      <th>Embarked_S</th>\n",
       "      <th>Sex_male</th>\n",
       "    </tr>\n",
       "    <tr>\n",
       "      <th>PassengerId</th>\n",
       "      <th></th>\n",
       "      <th></th>\n",
       "      <th></th>\n",
       "      <th></th>\n",
       "      <th></th>\n",
       "      <th></th>\n",
       "      <th></th>\n",
       "      <th></th>\n",
       "      <th></th>\n",
       "    </tr>\n",
       "  </thead>\n",
       "  <tbody>\n",
       "    <tr>\n",
       "      <th>1</th>\n",
       "      <td>0</td>\n",
       "      <td>3</td>\n",
       "      <td>22.0000</td>\n",
       "      <td>1</td>\n",
       "      <td>0</td>\n",
       "      <td>7.2500</td>\n",
       "      <td>0</td>\n",
       "      <td>1</td>\n",
       "      <td>1</td>\n",
       "    </tr>\n",
       "    <tr>\n",
       "      <th>2</th>\n",
       "      <td>1</td>\n",
       "      <td>1</td>\n",
       "      <td>38.0000</td>\n",
       "      <td>1</td>\n",
       "      <td>0</td>\n",
       "      <td>71.2833</td>\n",
       "      <td>0</td>\n",
       "      <td>0</td>\n",
       "      <td>0</td>\n",
       "    </tr>\n",
       "    <tr>\n",
       "      <th>3</th>\n",
       "      <td>1</td>\n",
       "      <td>3</td>\n",
       "      <td>26.0000</td>\n",
       "      <td>0</td>\n",
       "      <td>0</td>\n",
       "      <td>7.9250</td>\n",
       "      <td>0</td>\n",
       "      <td>1</td>\n",
       "      <td>0</td>\n",
       "    </tr>\n",
       "    <tr>\n",
       "      <th>4</th>\n",
       "      <td>1</td>\n",
       "      <td>1</td>\n",
       "      <td>35.0000</td>\n",
       "      <td>1</td>\n",
       "      <td>0</td>\n",
       "      <td>53.1000</td>\n",
       "      <td>0</td>\n",
       "      <td>1</td>\n",
       "      <td>0</td>\n",
       "    </tr>\n",
       "    <tr>\n",
       "      <th>5</th>\n",
       "      <td>0</td>\n",
       "      <td>3</td>\n",
       "      <td>35.0000</td>\n",
       "      <td>0</td>\n",
       "      <td>0</td>\n",
       "      <td>8.0500</td>\n",
       "      <td>0</td>\n",
       "      <td>1</td>\n",
       "      <td>1</td>\n",
       "    </tr>\n",
       "  </tbody>\n",
       "</table>\n",
       "</div>"
      ],
      "text/plain": [
       "             Survived  Pclass     Age  SibSp  Parch    Fare  Embarked_Q  \\\n",
       "PassengerId                                                               \n",
       "1            0         3      22.0000  1      0     7.2500   0            \n",
       "2            1         1      38.0000  1      0     71.2833  0            \n",
       "3            1         3      26.0000  0      0     7.9250   0            \n",
       "4            1         1      35.0000  1      0     53.1000  0            \n",
       "5            0         3      35.0000  0      0     8.0500   0            \n",
       "\n",
       "             Embarked_S  Sex_male  \n",
       "PassengerId                        \n",
       "1            1           1         \n",
       "2            0           0         \n",
       "3            1           0         \n",
       "4            1           0         \n",
       "5            1           1         "
      ]
     },
     "execution_count": 32,
     "metadata": {},
     "output_type": "execute_result"
    }
   ],
   "source": [
    "# Applying one-hot encoding (dummy variables) to 'Embarked' and 'Sex' columns for train\n",
    "df_train = pd.get_dummies(df_train, columns=['Embarked', 'Sex'], drop_first=True)\n",
    "\n",
    "df_train.head()\n"
   ]
  },
  {
   "cell_type": "markdown",
   "id": "b40bb24f",
   "metadata": {},
   "source": [
    "### Rescaling the Features \n",
    "\n",
    "For Simple Linear Regression, scaling doesn't impact model. So it is extremely important to rescale the variables so that they have a comparable scale. If we don't have comparable scales, then some of the coefficients as obtained by fitting the regression model might be very large or very small as compared to the other coefficients.\n",
    "There are two common ways of rescaling:\n",
    "\n",
    "1. Min-Max scaling \n",
    "2. Standardisation (mean-0, sigma-1) \n",
    "\n",
    "Here, we will use Standardisation Scaling."
   ]
  },
  {
   "cell_type": "code",
   "execution_count": 33,
   "id": "47d05de0",
   "metadata": {},
   "outputs": [
    {
     "data": {
      "text/html": [
       "<div>\n",
       "<style scoped>\n",
       "    .dataframe tbody tr th:only-of-type {\n",
       "        vertical-align: middle;\n",
       "    }\n",
       "\n",
       "    .dataframe tbody tr th {\n",
       "        vertical-align: top;\n",
       "    }\n",
       "\n",
       "    .dataframe thead th {\n",
       "        text-align: right;\n",
       "    }\n",
       "</style>\n",
       "<table border=\"1\" class=\"dataframe\">\n",
       "  <thead>\n",
       "    <tr style=\"text-align: right;\">\n",
       "      <th></th>\n",
       "      <th>Survived</th>\n",
       "      <th>Pclass</th>\n",
       "      <th>Age</th>\n",
       "      <th>SibSp</th>\n",
       "      <th>Parch</th>\n",
       "      <th>Fare</th>\n",
       "      <th>Embarked_Q</th>\n",
       "      <th>Embarked_S</th>\n",
       "      <th>Sex_male</th>\n",
       "    </tr>\n",
       "    <tr>\n",
       "      <th>PassengerId</th>\n",
       "      <th></th>\n",
       "      <th></th>\n",
       "      <th></th>\n",
       "      <th></th>\n",
       "      <th></th>\n",
       "      <th></th>\n",
       "      <th></th>\n",
       "      <th></th>\n",
       "      <th></th>\n",
       "    </tr>\n",
       "  </thead>\n",
       "  <tbody>\n",
       "    <tr>\n",
       "      <th>1</th>\n",
       "      <td>0</td>\n",
       "      <td>3</td>\n",
       "      <td>-0.5902</td>\n",
       "      <td>1</td>\n",
       "      <td>0</td>\n",
       "      <td>-0.5670</td>\n",
       "      <td>0</td>\n",
       "      <td>1</td>\n",
       "      <td>1</td>\n",
       "    </tr>\n",
       "    <tr>\n",
       "      <th>2</th>\n",
       "      <td>1</td>\n",
       "      <td>1</td>\n",
       "      <td>0.6394</td>\n",
       "      <td>1</td>\n",
       "      <td>0</td>\n",
       "      <td>0.9890</td>\n",
       "      <td>0</td>\n",
       "      <td>0</td>\n",
       "      <td>0</td>\n",
       "    </tr>\n",
       "    <tr>\n",
       "      <th>3</th>\n",
       "      <td>1</td>\n",
       "      <td>3</td>\n",
       "      <td>-0.2828</td>\n",
       "      <td>0</td>\n",
       "      <td>0</td>\n",
       "      <td>-0.5506</td>\n",
       "      <td>0</td>\n",
       "      <td>1</td>\n",
       "      <td>0</td>\n",
       "    </tr>\n",
       "    <tr>\n",
       "      <th>4</th>\n",
       "      <td>1</td>\n",
       "      <td>1</td>\n",
       "      <td>0.4088</td>\n",
       "      <td>1</td>\n",
       "      <td>0</td>\n",
       "      <td>0.5472</td>\n",
       "      <td>0</td>\n",
       "      <td>1</td>\n",
       "      <td>0</td>\n",
       "    </tr>\n",
       "    <tr>\n",
       "      <th>5</th>\n",
       "      <td>0</td>\n",
       "      <td>3</td>\n",
       "      <td>0.4088</td>\n",
       "      <td>0</td>\n",
       "      <td>0</td>\n",
       "      <td>-0.5475</td>\n",
       "      <td>0</td>\n",
       "      <td>1</td>\n",
       "      <td>1</td>\n",
       "    </tr>\n",
       "  </tbody>\n",
       "</table>\n",
       "</div>"
      ],
      "text/plain": [
       "             Survived  Pclass     Age  SibSp  Parch    Fare  Embarked_Q  \\\n",
       "PassengerId                                                               \n",
       "1            0         3      -0.5902  1      0     -0.5670  0            \n",
       "2            1         1      0.6394   1      0     0.9890   0            \n",
       "3            1         3      -0.2828  0      0     -0.5506  0            \n",
       "4            1         1      0.4088   1      0     0.5472   0            \n",
       "5            0         3      0.4088   0      0     -0.5475  0            \n",
       "\n",
       "             Embarked_S  Sex_male  \n",
       "PassengerId                        \n",
       "1            1           1         \n",
       "2            0           0         \n",
       "3            1           0         \n",
       "4            1           0         \n",
       "5            1           1         "
      ]
     },
     "execution_count": 33,
     "metadata": {},
     "output_type": "execute_result"
    }
   ],
   "source": [
    "numerical_columns = [\"Age\", \"Fare\"]\n",
    "scaler = StandardScaler()\n",
    "df_train[numerical_columns] = scaler.fit_transform(df_train[numerical_columns])\n",
    "df_train.head()"
   ]
  },
  {
   "cell_type": "markdown",
   "id": "1f28c8a3",
   "metadata": {},
   "source": [
    "#### Test data\n",
    "* We need to apply the same operations that we applied to the train data."
   ]
  },
  {
   "cell_type": "code",
   "execution_count": 34,
   "id": "b6c57fc0",
   "metadata": {},
   "outputs": [],
   "source": [
    "df_test = pd.read_csv(\"test.csv\")"
   ]
  },
  {
   "cell_type": "code",
   "execution_count": 35,
   "id": "5dff2c5d",
   "metadata": {},
   "outputs": [
    {
     "data": {
      "text/html": [
       "<div>\n",
       "<style scoped>\n",
       "    .dataframe tbody tr th:only-of-type {\n",
       "        vertical-align: middle;\n",
       "    }\n",
       "\n",
       "    .dataframe tbody tr th {\n",
       "        vertical-align: top;\n",
       "    }\n",
       "\n",
       "    .dataframe thead th {\n",
       "        text-align: right;\n",
       "    }\n",
       "</style>\n",
       "<table border=\"1\" class=\"dataframe\">\n",
       "  <thead>\n",
       "    <tr style=\"text-align: right;\">\n",
       "      <th></th>\n",
       "      <th>PassengerId</th>\n",
       "      <th>Pclass</th>\n",
       "      <th>Name</th>\n",
       "      <th>Sex</th>\n",
       "      <th>Age</th>\n",
       "      <th>SibSp</th>\n",
       "      <th>Parch</th>\n",
       "      <th>Ticket</th>\n",
       "      <th>Fare</th>\n",
       "      <th>Cabin</th>\n",
       "      <th>Embarked</th>\n",
       "    </tr>\n",
       "  </thead>\n",
       "  <tbody>\n",
       "    <tr>\n",
       "      <th>0</th>\n",
       "      <td>892</td>\n",
       "      <td>3</td>\n",
       "      <td>Kelly, Mr. James</td>\n",
       "      <td>male</td>\n",
       "      <td>34.5000</td>\n",
       "      <td>0</td>\n",
       "      <td>0</td>\n",
       "      <td>330911</td>\n",
       "      <td>7.8292</td>\n",
       "      <td>NaN</td>\n",
       "      <td>Q</td>\n",
       "    </tr>\n",
       "    <tr>\n",
       "      <th>1</th>\n",
       "      <td>893</td>\n",
       "      <td>3</td>\n",
       "      <td>Wilkes, Mrs. James (Ellen Needs)</td>\n",
       "      <td>female</td>\n",
       "      <td>47.0000</td>\n",
       "      <td>1</td>\n",
       "      <td>0</td>\n",
       "      <td>363272</td>\n",
       "      <td>7.0000</td>\n",
       "      <td>NaN</td>\n",
       "      <td>S</td>\n",
       "    </tr>\n",
       "    <tr>\n",
       "      <th>2</th>\n",
       "      <td>894</td>\n",
       "      <td>2</td>\n",
       "      <td>Myles, Mr. Thomas Francis</td>\n",
       "      <td>male</td>\n",
       "      <td>62.0000</td>\n",
       "      <td>0</td>\n",
       "      <td>0</td>\n",
       "      <td>240276</td>\n",
       "      <td>9.6875</td>\n",
       "      <td>NaN</td>\n",
       "      <td>Q</td>\n",
       "    </tr>\n",
       "    <tr>\n",
       "      <th>3</th>\n",
       "      <td>895</td>\n",
       "      <td>3</td>\n",
       "      <td>Wirz, Mr. Albert</td>\n",
       "      <td>male</td>\n",
       "      <td>27.0000</td>\n",
       "      <td>0</td>\n",
       "      <td>0</td>\n",
       "      <td>315154</td>\n",
       "      <td>8.6625</td>\n",
       "      <td>NaN</td>\n",
       "      <td>S</td>\n",
       "    </tr>\n",
       "    <tr>\n",
       "      <th>4</th>\n",
       "      <td>896</td>\n",
       "      <td>3</td>\n",
       "      <td>Hirvonen, Mrs. Alexander (Helga E Lindqvist)</td>\n",
       "      <td>female</td>\n",
       "      <td>22.0000</td>\n",
       "      <td>1</td>\n",
       "      <td>1</td>\n",
       "      <td>3101298</td>\n",
       "      <td>12.2875</td>\n",
       "      <td>NaN</td>\n",
       "      <td>S</td>\n",
       "    </tr>\n",
       "  </tbody>\n",
       "</table>\n",
       "</div>"
      ],
      "text/plain": [
       "   PassengerId  Pclass                                          Name     Sex  \\\n",
       "0  892          3       Kelly, Mr. James                              male     \n",
       "1  893          3       Wilkes, Mrs. James (Ellen Needs)              female   \n",
       "2  894          2       Myles, Mr. Thomas Francis                     male     \n",
       "3  895          3       Wirz, Mr. Albert                              male     \n",
       "4  896          3       Hirvonen, Mrs. Alexander (Helga E Lindqvist)  female   \n",
       "\n",
       "      Age  SibSp  Parch   Ticket    Fare Cabin Embarked  \n",
       "0 34.5000  0      0      330911  7.8292   NaN   Q        \n",
       "1 47.0000  1      0      363272  7.0000   NaN   S        \n",
       "2 62.0000  0      0      240276  9.6875   NaN   Q        \n",
       "3 27.0000  0      0      315154  8.6625   NaN   S        \n",
       "4 22.0000  1      1      3101298 12.2875  NaN   S        "
      ]
     },
     "execution_count": 35,
     "metadata": {},
     "output_type": "execute_result"
    }
   ],
   "source": [
    "df_test.head()"
   ]
  },
  {
   "cell_type": "code",
   "execution_count": 36,
   "id": "65418b73",
   "metadata": {},
   "outputs": [],
   "source": [
    "df_test.set_index(\"PassengerId\", inplace=True)"
   ]
  },
  {
   "cell_type": "code",
   "execution_count": 37,
   "id": "4138e8eb",
   "metadata": {},
   "outputs": [
    {
     "data": {
      "text/html": [
       "<div>\n",
       "<style scoped>\n",
       "    .dataframe tbody tr th:only-of-type {\n",
       "        vertical-align: middle;\n",
       "    }\n",
       "\n",
       "    .dataframe tbody tr th {\n",
       "        vertical-align: top;\n",
       "    }\n",
       "\n",
       "    .dataframe thead th {\n",
       "        text-align: right;\n",
       "    }\n",
       "</style>\n",
       "<table border=\"1\" class=\"dataframe\">\n",
       "  <thead>\n",
       "    <tr style=\"text-align: right;\">\n",
       "      <th></th>\n",
       "      <th>Pclass</th>\n",
       "      <th>Name</th>\n",
       "      <th>Sex</th>\n",
       "      <th>Age</th>\n",
       "      <th>SibSp</th>\n",
       "      <th>Parch</th>\n",
       "      <th>Ticket</th>\n",
       "      <th>Fare</th>\n",
       "      <th>Cabin</th>\n",
       "      <th>Embarked</th>\n",
       "    </tr>\n",
       "    <tr>\n",
       "      <th>PassengerId</th>\n",
       "      <th></th>\n",
       "      <th></th>\n",
       "      <th></th>\n",
       "      <th></th>\n",
       "      <th></th>\n",
       "      <th></th>\n",
       "      <th></th>\n",
       "      <th></th>\n",
       "      <th></th>\n",
       "      <th></th>\n",
       "    </tr>\n",
       "  </thead>\n",
       "  <tbody>\n",
       "    <tr>\n",
       "      <th>892</th>\n",
       "      <td>3</td>\n",
       "      <td>Kelly, Mr. James</td>\n",
       "      <td>male</td>\n",
       "      <td>34.5000</td>\n",
       "      <td>0</td>\n",
       "      <td>0</td>\n",
       "      <td>330911</td>\n",
       "      <td>7.8292</td>\n",
       "      <td>NaN</td>\n",
       "      <td>Q</td>\n",
       "    </tr>\n",
       "    <tr>\n",
       "      <th>893</th>\n",
       "      <td>3</td>\n",
       "      <td>Wilkes, Mrs. James (Ellen Needs)</td>\n",
       "      <td>female</td>\n",
       "      <td>47.0000</td>\n",
       "      <td>1</td>\n",
       "      <td>0</td>\n",
       "      <td>363272</td>\n",
       "      <td>7.0000</td>\n",
       "      <td>NaN</td>\n",
       "      <td>S</td>\n",
       "    </tr>\n",
       "    <tr>\n",
       "      <th>894</th>\n",
       "      <td>2</td>\n",
       "      <td>Myles, Mr. Thomas Francis</td>\n",
       "      <td>male</td>\n",
       "      <td>62.0000</td>\n",
       "      <td>0</td>\n",
       "      <td>0</td>\n",
       "      <td>240276</td>\n",
       "      <td>9.6875</td>\n",
       "      <td>NaN</td>\n",
       "      <td>Q</td>\n",
       "    </tr>\n",
       "    <tr>\n",
       "      <th>895</th>\n",
       "      <td>3</td>\n",
       "      <td>Wirz, Mr. Albert</td>\n",
       "      <td>male</td>\n",
       "      <td>27.0000</td>\n",
       "      <td>0</td>\n",
       "      <td>0</td>\n",
       "      <td>315154</td>\n",
       "      <td>8.6625</td>\n",
       "      <td>NaN</td>\n",
       "      <td>S</td>\n",
       "    </tr>\n",
       "    <tr>\n",
       "      <th>896</th>\n",
       "      <td>3</td>\n",
       "      <td>Hirvonen, Mrs. Alexander (Helga E Lindqvist)</td>\n",
       "      <td>female</td>\n",
       "      <td>22.0000</td>\n",
       "      <td>1</td>\n",
       "      <td>1</td>\n",
       "      <td>3101298</td>\n",
       "      <td>12.2875</td>\n",
       "      <td>NaN</td>\n",
       "      <td>S</td>\n",
       "    </tr>\n",
       "  </tbody>\n",
       "</table>\n",
       "</div>"
      ],
      "text/plain": [
       "             Pclass                                          Name     Sex  \\\n",
       "PassengerId                                                                 \n",
       "892          3       Kelly, Mr. James                              male     \n",
       "893          3       Wilkes, Mrs. James (Ellen Needs)              female   \n",
       "894          2       Myles, Mr. Thomas Francis                     male     \n",
       "895          3       Wirz, Mr. Albert                              male     \n",
       "896          3       Hirvonen, Mrs. Alexander (Helga E Lindqvist)  female   \n",
       "\n",
       "                Age  SibSp  Parch   Ticket    Fare Cabin Embarked  \n",
       "PassengerId                                                        \n",
       "892         34.5000  0      0      330911  7.8292   NaN   Q        \n",
       "893         47.0000  1      0      363272  7.0000   NaN   S        \n",
       "894         62.0000  0      0      240276  9.6875   NaN   Q        \n",
       "895         27.0000  0      0      315154  8.6625   NaN   S        \n",
       "896         22.0000  1      1      3101298 12.2875  NaN   S        "
      ]
     },
     "execution_count": 37,
     "metadata": {},
     "output_type": "execute_result"
    }
   ],
   "source": [
    "df_test.head()"
   ]
  },
  {
   "cell_type": "code",
   "execution_count": 38,
   "id": "304ef97c",
   "metadata": {},
   "outputs": [],
   "source": [
    "# Deleting unimportant columns from the test dataset\n",
    "df_test.drop([\"Cabin\", \"Name\", \"Ticket\"], axis = 1, inplace=True)"
   ]
  },
  {
   "cell_type": "code",
   "execution_count": 39,
   "id": "a03a1337",
   "metadata": {},
   "outputs": [
    {
     "data": {
      "text/html": [
       "<div>\n",
       "<style scoped>\n",
       "    .dataframe tbody tr th:only-of-type {\n",
       "        vertical-align: middle;\n",
       "    }\n",
       "\n",
       "    .dataframe tbody tr th {\n",
       "        vertical-align: top;\n",
       "    }\n",
       "\n",
       "    .dataframe thead th {\n",
       "        text-align: right;\n",
       "    }\n",
       "</style>\n",
       "<table border=\"1\" class=\"dataframe\">\n",
       "  <thead>\n",
       "    <tr style=\"text-align: right;\">\n",
       "      <th></th>\n",
       "      <th>Pclass</th>\n",
       "      <th>Age</th>\n",
       "      <th>SibSp</th>\n",
       "      <th>Parch</th>\n",
       "      <th>Fare</th>\n",
       "      <th>Embarked_Q</th>\n",
       "      <th>Embarked_S</th>\n",
       "      <th>Sex_male</th>\n",
       "    </tr>\n",
       "    <tr>\n",
       "      <th>PassengerId</th>\n",
       "      <th></th>\n",
       "      <th></th>\n",
       "      <th></th>\n",
       "      <th></th>\n",
       "      <th></th>\n",
       "      <th></th>\n",
       "      <th></th>\n",
       "      <th></th>\n",
       "    </tr>\n",
       "  </thead>\n",
       "  <tbody>\n",
       "    <tr>\n",
       "      <th>892</th>\n",
       "      <td>3</td>\n",
       "      <td>34.5000</td>\n",
       "      <td>0</td>\n",
       "      <td>0</td>\n",
       "      <td>7.8292</td>\n",
       "      <td>1</td>\n",
       "      <td>0</td>\n",
       "      <td>1</td>\n",
       "    </tr>\n",
       "    <tr>\n",
       "      <th>893</th>\n",
       "      <td>3</td>\n",
       "      <td>47.0000</td>\n",
       "      <td>1</td>\n",
       "      <td>0</td>\n",
       "      <td>7.0000</td>\n",
       "      <td>0</td>\n",
       "      <td>1</td>\n",
       "      <td>0</td>\n",
       "    </tr>\n",
       "    <tr>\n",
       "      <th>894</th>\n",
       "      <td>2</td>\n",
       "      <td>62.0000</td>\n",
       "      <td>0</td>\n",
       "      <td>0</td>\n",
       "      <td>9.6875</td>\n",
       "      <td>1</td>\n",
       "      <td>0</td>\n",
       "      <td>1</td>\n",
       "    </tr>\n",
       "    <tr>\n",
       "      <th>895</th>\n",
       "      <td>3</td>\n",
       "      <td>27.0000</td>\n",
       "      <td>0</td>\n",
       "      <td>0</td>\n",
       "      <td>8.6625</td>\n",
       "      <td>0</td>\n",
       "      <td>1</td>\n",
       "      <td>1</td>\n",
       "    </tr>\n",
       "    <tr>\n",
       "      <th>896</th>\n",
       "      <td>3</td>\n",
       "      <td>22.0000</td>\n",
       "      <td>1</td>\n",
       "      <td>1</td>\n",
       "      <td>12.2875</td>\n",
       "      <td>0</td>\n",
       "      <td>1</td>\n",
       "      <td>0</td>\n",
       "    </tr>\n",
       "  </tbody>\n",
       "</table>\n",
       "</div>"
      ],
      "text/plain": [
       "             Pclass     Age  SibSp  Parch    Fare  Embarked_Q  Embarked_S  \\\n",
       "PassengerId                                                                 \n",
       "892          3      34.5000  0      0     7.8292   1           0            \n",
       "893          3      47.0000  1      0     7.0000   0           1            \n",
       "894          2      62.0000  0      0     9.6875   1           0            \n",
       "895          3      27.0000  0      0     8.6625   0           1            \n",
       "896          3      22.0000  1      1     12.2875  0           1            \n",
       "\n",
       "             Sex_male  \n",
       "PassengerId            \n",
       "892          1         \n",
       "893          0         \n",
       "894          1         \n",
       "895          1         \n",
       "896          0         "
      ]
     },
     "execution_count": 39,
     "metadata": {},
     "output_type": "execute_result"
    }
   ],
   "source": [
    "# Applying one-hot encoding (dummy variables) to 'Embarked' and 'Sex' columns for test data\n",
    "df_test = pd.get_dummies(df_test, columns=['Embarked', 'Sex'], drop_first=True)\n",
    "\n",
    "df_test.head()"
   ]
  },
  {
   "cell_type": "code",
   "execution_count": 40,
   "id": "f1dcef57",
   "metadata": {},
   "outputs": [
    {
     "data": {
      "text/html": [
       "<div>\n",
       "<style scoped>\n",
       "    .dataframe tbody tr th:only-of-type {\n",
       "        vertical-align: middle;\n",
       "    }\n",
       "\n",
       "    .dataframe tbody tr th {\n",
       "        vertical-align: top;\n",
       "    }\n",
       "\n",
       "    .dataframe thead th {\n",
       "        text-align: right;\n",
       "    }\n",
       "</style>\n",
       "<table border=\"1\" class=\"dataframe\">\n",
       "  <thead>\n",
       "    <tr style=\"text-align: right;\">\n",
       "      <th></th>\n",
       "      <th>Pclass</th>\n",
       "      <th>Age</th>\n",
       "      <th>SibSp</th>\n",
       "      <th>Parch</th>\n",
       "      <th>Fare</th>\n",
       "      <th>Embarked_Q</th>\n",
       "      <th>Embarked_S</th>\n",
       "      <th>Sex_male</th>\n",
       "    </tr>\n",
       "    <tr>\n",
       "      <th>PassengerId</th>\n",
       "      <th></th>\n",
       "      <th></th>\n",
       "      <th></th>\n",
       "      <th></th>\n",
       "      <th></th>\n",
       "      <th></th>\n",
       "      <th></th>\n",
       "      <th></th>\n",
       "    </tr>\n",
       "  </thead>\n",
       "  <tbody>\n",
       "    <tr>\n",
       "      <th>892</th>\n",
       "      <td>3</td>\n",
       "      <td>0.2985</td>\n",
       "      <td>0</td>\n",
       "      <td>0</td>\n",
       "      <td>-0.4978</td>\n",
       "      <td>1</td>\n",
       "      <td>0</td>\n",
       "      <td>1</td>\n",
       "    </tr>\n",
       "    <tr>\n",
       "      <th>893</th>\n",
       "      <td>3</td>\n",
       "      <td>1.1813</td>\n",
       "      <td>1</td>\n",
       "      <td>0</td>\n",
       "      <td>-0.5127</td>\n",
       "      <td>0</td>\n",
       "      <td>1</td>\n",
       "      <td>0</td>\n",
       "    </tr>\n",
       "    <tr>\n",
       "      <th>894</th>\n",
       "      <td>2</td>\n",
       "      <td>2.2407</td>\n",
       "      <td>0</td>\n",
       "      <td>0</td>\n",
       "      <td>-0.4645</td>\n",
       "      <td>1</td>\n",
       "      <td>0</td>\n",
       "      <td>1</td>\n",
       "    </tr>\n",
       "    <tr>\n",
       "      <th>895</th>\n",
       "      <td>3</td>\n",
       "      <td>-0.2311</td>\n",
       "      <td>0</td>\n",
       "      <td>0</td>\n",
       "      <td>-0.4829</td>\n",
       "      <td>0</td>\n",
       "      <td>1</td>\n",
       "      <td>1</td>\n",
       "    </tr>\n",
       "    <tr>\n",
       "      <th>896</th>\n",
       "      <td>3</td>\n",
       "      <td>-0.5842</td>\n",
       "      <td>1</td>\n",
       "      <td>1</td>\n",
       "      <td>-0.4180</td>\n",
       "      <td>0</td>\n",
       "      <td>1</td>\n",
       "      <td>0</td>\n",
       "    </tr>\n",
       "  </tbody>\n",
       "</table>\n",
       "</div>"
      ],
      "text/plain": [
       "             Pclass     Age  SibSp  Parch    Fare  Embarked_Q  Embarked_S  \\\n",
       "PassengerId                                                                 \n",
       "892          3      0.2985   0      0     -0.4978  1           0            \n",
       "893          3      1.1813   1      0     -0.5127  0           1            \n",
       "894          2      2.2407   0      0     -0.4645  1           0            \n",
       "895          3      -0.2311  0      0     -0.4829  0           1            \n",
       "896          3      -0.5842  1      1     -0.4180  0           1            \n",
       "\n",
       "             Sex_male  \n",
       "PassengerId            \n",
       "892          1         \n",
       "893          0         \n",
       "894          1         \n",
       "895          1         \n",
       "896          0         "
      ]
     },
     "execution_count": 40,
     "metadata": {},
     "output_type": "execute_result"
    }
   ],
   "source": [
    "# Scalling the test data set\n",
    "numerical_columns = [\"Age\", \"Fare\"]\n",
    "scaler = StandardScaler()\n",
    "df_test[numerical_columns] = scaler.fit_transform(df_test[numerical_columns])\n",
    "df_test.head()"
   ]
  },
  {
   "cell_type": "code",
   "execution_count": 41,
   "id": "02591cd6",
   "metadata": {},
   "outputs": [
    {
     "data": {
      "text/plain": [
       "Age      20.5700\n",
       "Fare     0.2400 \n",
       "Pclass   0.0000 \n",
       "SibSp    0.0000 \n",
       "Parch    0.0000 \n",
       "dtype: float64"
      ]
     },
     "execution_count": 41,
     "metadata": {},
     "output_type": "execute_result"
    }
   ],
   "source": [
    "# Calculating the Missing Values % contribution in DF\n",
    "df_null = df_test.isna().mean().round(4) * 100\n",
    "\n",
    "df_null.sort_values(ascending=False).head()"
   ]
  },
  {
   "cell_type": "code",
   "execution_count": 42,
   "id": "bce679d6",
   "metadata": {},
   "outputs": [],
   "source": [
    "# Handling missing value in Age and fair column\n",
    "\n",
    "# Calculate the mean age\n",
    "mean_age = df_test['Age'].mean()\n",
    "\n",
    "# Fill missing values in the 'Age' column with the mean age\n",
    "df_test['Age'].fillna(mean_age, inplace=True)"
   ]
  },
  {
   "cell_type": "code",
   "execution_count": 43,
   "id": "917b08de",
   "metadata": {},
   "outputs": [
    {
     "data": {
      "image/png": "[encoded data removed]",
      "text/plain": [
       "<Figure size 1000x600 with 1 Axes>"
      ]
     },
     "metadata": {},
     "output_type": "display_data"
    }
   ],
   "source": [
    "plt.figure(figsize=(10, 6))\n",
    "ax = sns.distplot(df_test['Fare'], hist_kws=dict(edgecolor=\"k\", linewidth=2), kde_kws={\"color\": \"#ce0d55\", \"lw\": 2})\n",
    "ax.set_title('Fare Distribution')\n",
    "ax.set_xlabel('Fare')\n",
    "plt.show()"
   ]
  },
  {
   "cell_type": "code",
   "execution_count": 44,
   "id": "04b44bb1",
   "metadata": {},
   "outputs": [],
   "source": [
    "from sklearn.impute import SimpleImputer\n",
    "\n",
    "# Initialize SimpleImputer with strategy='median'\n",
    "imputer = SimpleImputer(strategy='median')\n",
    "\n",
    "# Fill missing values in the 'Fare' column with the median value\n",
    "df_test['Fare'] = imputer.fit_transform(df_test[['Fare']])\n"
   ]
  },
  {
   "cell_type": "code",
   "execution_count": 45,
   "id": "8b0ebe58",
   "metadata": {},
   "outputs": [
    {
     "data": {
      "text/plain": [
       "Pclass        0\n",
       "Age           0\n",
       "SibSp         0\n",
       "Parch         0\n",
       "Fare          0\n",
       "Embarked_Q    0\n",
       "Embarked_S    0\n",
       "Sex_male      0\n",
       "dtype: int64"
      ]
     },
     "execution_count": 45,
     "metadata": {},
     "output_type": "execute_result"
    }
   ],
   "source": [
    "# Calculating the Missing Values % contribution in DF\n",
    "\n",
    "df_test.isna().sum()"
   ]
  },
  {
   "cell_type": "markdown",
   "id": "eca6f2ba",
   "metadata": {},
   "source": [
    "<a id=\"5\"></a> <br>\n",
    "## Step 5: Remove Target variable from data set"
   ]
  },
  {
   "cell_type": "code",
   "execution_count": 46,
   "id": "8dfa0d17",
   "metadata": {},
   "outputs": [],
   "source": [
    "X = df_train.drop('Survived', axis=1)  # Features\n",
    "y = df_train['Survived']  # Target variable\n",
    "\n",
    "# Splitting data into train and test sets (adjust test_size and random_state as needed)\n",
    "X_train, X_test, y_train, y_test = train_test_split(X, y, test_size=0.2, random_state=42)"
   ]
  },
  {
   "cell_type": "markdown",
   "id": "0a67e16b",
   "metadata": {},
   "source": [
    "<a id=\"6\"></a> <br>\n",
    "## Step 6: Using Various Models"
   ]
  },
  {
   "cell_type": "markdown",
   "id": "79a677d1",
   "metadata": {},
   "source": [
    "<font color='gray'> \n",
    "\n",
    "## Logistic Regression\n",
    "\n",
    "</font>\n"
   ]
  },
  {
   "cell_type": "markdown",
   "id": "0ccede31",
   "metadata": {},
   "source": [
    "Logistic Regression is a fundamental statistical method used for binary classification tasks. Unlike linear regression, it predicts the probability of an observation belonging to a particular class by applying the logistic function. This model is well-suited for problems where the dependent variable is categorical and has two possible outcomes. It's computationally efficient and provides interpretable results, making it a popular choice for various predictive modeling tasks.\n"
   ]
  },
  {
   "cell_type": "code",
   "execution_count": 47,
   "id": "55898b20",
   "metadata": {},
   "outputs": [
    {
     "name": "stdout",
     "output_type": "stream",
     "text": [
      "Accuracy of the Logistic Regression model: 0.8146067415730337\n"
     ]
    }
   ],
   "source": [
    "model_lr = LogisticRegression()\n",
    "\n",
    "# Fitting the model on the training data\n",
    "model_lr.fit(X_train, y_train)\n",
    "\n",
    "# Predicting on the test data\n",
    "y_pred = model_lr.predict(X_test)\n",
    "\n",
    "# Calculating the accuracy\n",
    "logistic_regression_accuracy = accuracy_score(y_test, y_pred)\n",
    "print(\"Accuracy of the Logistic Regression model:\", logistic_regression_accuracy)"
   ]
  },
  {
   "cell_type": "code",
   "execution_count": 48,
   "id": "86fa3de7",
   "metadata": {},
   "outputs": [
    {
     "name": "stdout",
     "output_type": "stream",
     "text": [
      "\n",
      "Classification Report:\n",
      "              precision    recall  f1-score   support\n",
      "\n",
      "           0       0.86      0.82      0.84       104\n",
      "           1       0.76      0.81      0.78        74\n",
      "\n",
      "    accuracy                           0.81       178\n",
      "   macro avg       0.81      0.81      0.81       178\n",
      "weighted avg       0.82      0.81      0.82       178\n",
      "\n"
     ]
    }
   ],
   "source": [
    "# Generating the classification report\n",
    "class_report = classification_report(y_test, y_pred)\n",
    "print(\"\\nClassification Report:\")\n",
    "print(class_report)\n"
   ]
  },
  {
   "cell_type": "code",
   "execution_count": 49,
   "id": "7a33be88",
   "metadata": {},
   "outputs": [
    {
     "data": {
      "image/png": "[encoded data removed]",
      "text/plain": [
       "<Figure size 800x600 with 1 Axes>"
      ]
     },
     "metadata": {},
     "output_type": "display_data"
    }
   ],
   "source": [
    "# Confusion Matrix Visualization\n",
    "conf_matrix = confusion_matrix(y_test, y_pred)\n",
    "plt.figure(figsize=(8, 6))\n",
    "sns.heatmap(conf_matrix, annot=True, fmt=\"d\", cmap=\"Blues\", cbar=False)\n",
    "plt.xlabel(\"Predicted\")\n",
    "plt.ylabel(\"Actual\")\n",
    "plt.title(\"Confusion Matrix\")\n",
    "plt.show()"
   ]
  },
  {
   "cell_type": "markdown",
   "id": "fdab22ab",
   "metadata": {},
   "source": [
    "<font color='gray'> \n",
    "\n",
    "## Random Forest\n",
    "\n",
    "</font>\n"
   ]
  },
  {
   "cell_type": "markdown",
   "id": "6423de62",
   "metadata": {},
   "source": [
    "Random Forest is an ensemble learning method that operates by constructing multiple decision trees during training. Each tree in the forest independently predicts the target variable, and the final prediction is determined by averaging the predictions (regression) or taking a majority vote (classification) from all the trees. It's known for its robustness against overfitting, handles high-dimensional data well, and generally provides high predictive accuracy."
   ]
  },
  {
   "cell_type": "code",
   "execution_count": 50,
   "id": "944197f7",
   "metadata": {},
   "outputs": [
    {
     "name": "stdout",
     "output_type": "stream",
     "text": [
      "Accuracy of the Random Forest model: 0.8258426966292135\n"
     ]
    }
   ],
   "source": [
    "from sklearn.ensemble import RandomForestClassifier\n",
    "\n",
    "model_rf = RandomForestClassifier()\n",
    "\n",
    "# Fitting the model on the training data\n",
    "model_rf.fit(X_train, y_train)\n",
    "\n",
    "# Predicting on the test data\n",
    "y_pred = model_rf.predict(X_test)\n",
    "\n",
    "# Calculating the accuracy\n",
    "random_forest_accuracy = accuracy_score(y_test, y_pred)\n",
    "print(\"Accuracy of the Random Forest model:\", random_forest_accuracy)"
   ]
  },
  {
   "cell_type": "code",
   "execution_count": 51,
   "id": "ac62ceb0",
   "metadata": {},
   "outputs": [
    {
     "name": "stdout",
     "output_type": "stream",
     "text": [
      "\n",
      "Classification Report:\n",
      "              precision    recall  f1-score   support\n",
      "\n",
      "           0       0.85      0.85      0.85       104\n",
      "           1       0.79      0.80      0.79        74\n",
      "\n",
      "    accuracy                           0.83       178\n",
      "   macro avg       0.82      0.82      0.82       178\n",
      "weighted avg       0.83      0.83      0.83       178\n",
      "\n"
     ]
    }
   ],
   "source": [
    "# Generating the classification report\n",
    "class_report = classification_report(y_test, y_pred)\n",
    "print(\"\\nClassification Report:\")\n",
    "print(class_report)"
   ]
  },
  {
   "cell_type": "code",
   "execution_count": 52,
   "id": "d183b75d",
   "metadata": {},
   "outputs": [
    {
     "data": {
      "image/png": "[encoded data removed]",
      "text/plain": [
       "<Figure size 800x600 with 1 Axes>"
      ]
     },
     "metadata": {},
     "output_type": "display_data"
    }
   ],
   "source": [
    "# Confusion Matrix Visualization\n",
    "conf_matrix = confusion_matrix(y_test, y_pred)\n",
    "plt.figure(figsize=(8, 6))\n",
    "sns.heatmap(conf_matrix, annot=True, fmt=\"d\", cmap=\"Blues\", cbar=False)\n",
    "plt.xlabel(\"Predicted\")\n",
    "plt.ylabel(\"Actual\")\n",
    "plt.title(\"Confusion Matrix\")\n",
    "plt.show()"
   ]
  },
  {
   "cell_type": "markdown",
   "id": "979549b5",
   "metadata": {},
   "source": [
    "<font color='gray'> \n",
    "\n",
    "## Gradient Boosting\n",
    "\n",
    "</font>\n"
   ]
  },
  {
   "cell_type": "markdown",
   "id": "bf2ebe1f",
   "metadata": {},
   "source": [
    "Gradient Boosting is an ensemble learning technique that builds multiple decision trees sequentially, aiming to minimize errors made by the previous trees. It combines weak learners into a strong learner by focusing on the residuals or mistakes of the previous predictors. Gradient Boosting typically provides high predictive accuracy and is robust against overfitting, making it suitable for various regression and classification tasks."
   ]
  },
  {
   "cell_type": "code",
   "execution_count": 53,
   "id": "037b5817",
   "metadata": {},
   "outputs": [
    {
     "name": "stdout",
     "output_type": "stream",
     "text": [
      "Accuracy of the Gradient Boosting Classifier: 0.848314606741573\n"
     ]
    }
   ],
   "source": [
    "from sklearn.ensemble import GradientBoostingClassifier\n",
    "\n",
    "\n",
    "# Initialize the Gradient Boosting Classifier (GBM)\n",
    "model_GB = GradientBoostingClassifier(random_state=45)  # You can adjust hyperparameters here\n",
    "\n",
    "# Fit the model on the training data\n",
    "model_GB.fit(X_train, y_train)\n",
    "\n",
    "# Predict on the validation set\n",
    "y_pred = model_GB.predict(X_test)\n",
    "\n",
    "# Calculate the accuracy of the model\n",
    "gboost_accuracy = accuracy_score(y_test, y_pred)\n",
    "print(\"Accuracy of the Gradient Boosting Classifier:\", gboost_accuracy)"
   ]
  },
  {
   "cell_type": "code",
   "execution_count": 54,
   "id": "8828b953",
   "metadata": {},
   "outputs": [
    {
     "name": "stdout",
     "output_type": "stream",
     "text": [
      "\n",
      "Classification Report:\n",
      "              precision    recall  f1-score   support\n",
      "\n",
      "           0       0.85      0.89      0.87       104\n",
      "           1       0.84      0.78      0.81        74\n",
      "\n",
      "    accuracy                           0.85       178\n",
      "   macro avg       0.85      0.84      0.84       178\n",
      "weighted avg       0.85      0.85      0.85       178\n",
      "\n"
     ]
    }
   ],
   "source": [
    "# Generating the classification report\n",
    "class_report = classification_report(y_test, y_pred)\n",
    "print(\"\\nClassification Report:\")\n",
    "print(class_report)"
   ]
  },
  {
   "cell_type": "code",
   "execution_count": 55,
   "id": "f8da8c34",
   "metadata": {},
   "outputs": [
    {
     "data": {
      "image/png": "[encoded data removed]",
      "text/plain": [
       "<Figure size 800x600 with 1 Axes>"
      ]
     },
     "metadata": {},
     "output_type": "display_data"
    }
   ],
   "source": [
    "# Confusion Matrix Visualization\n",
    "conf_matrix = confusion_matrix(y_test, y_pred)\n",
    "plt.figure(figsize=(8, 6))\n",
    "sns.heatmap(conf_matrix, annot=True, fmt=\"d\", cmap=\"Blues\", cbar=False)\n",
    "plt.xlabel(\"Predicted\")\n",
    "plt.ylabel(\"Actual\")\n",
    "plt.title(\"Confusion Matrix\")\n",
    "plt.show()"
   ]
  },
  {
   "cell_type": "markdown",
   "id": "fe44f79b",
   "metadata": {},
   "source": [
    "<font color='gray'> \n",
    "\n",
    "## Support Vector Machine\n",
    "\n",
    "</font>\n"
   ]
  },
  {
   "cell_type": "markdown",
   "id": "242f1bc8",
   "metadata": {},
   "source": [
    "Support Vector Machine is a powerful supervised learning algorithm used for classification and regression tasks. It aims to find the optimal hyperplane that best separates different classes in the feature space. SVM works by maximizing the margin between classes while minimizing classification errors. It's effective in handling high-dimensional data and works well in scenarios with clear class boundaries."
   ]
  },
  {
   "cell_type": "code",
   "execution_count": 56,
   "id": "54adb507",
   "metadata": {},
   "outputs": [
    {
     "name": "stdout",
     "output_type": "stream",
     "text": [
      "Accuracy of the Support Vector Machine (SVM): 0.848314606741573\n"
     ]
    }
   ],
   "source": [
    "from sklearn.svm import SVC  \n",
    "\n",
    "# Initialize the Support Vector Classifier (SVM)\n",
    "model_svm = SVC()  \n",
    "\n",
    "# Fit the SVM model on the training data\n",
    "model_svm.fit(X_train, y_train)\n",
    "\n",
    "# Predict on the validation set using SVM\n",
    "y_pred_svm = model_svm.predict(X_test)\n",
    "\n",
    "# Calculate the accuracy of the SVM model\n",
    "svm_accuracy = accuracy_score(y_test, y_pred_svm)\n",
    "print(\"Accuracy of the Support Vector Machine (SVM):\", svm_accuracy)\n"
   ]
  },
  {
   "cell_type": "code",
   "execution_count": 57,
   "id": "d2d8edf4",
   "metadata": {},
   "outputs": [
    {
     "name": "stdout",
     "output_type": "stream",
     "text": [
      "\n",
      "Classification Report:\n",
      "              precision    recall  f1-score   support\n",
      "\n",
      "           0       0.85      0.89      0.87       104\n",
      "           1       0.84      0.78      0.81        74\n",
      "\n",
      "    accuracy                           0.85       178\n",
      "   macro avg       0.85      0.84      0.84       178\n",
      "weighted avg       0.85      0.85      0.85       178\n",
      "\n"
     ]
    }
   ],
   "source": [
    "# Generating the classification report\n",
    "class_report = classification_report(y_test, y_pred)\n",
    "print(\"\\nClassification Report:\")\n",
    "print(class_report)"
   ]
  },
  {
   "cell_type": "code",
   "execution_count": 58,
   "id": "265c71cd",
   "metadata": {},
   "outputs": [
    {
     "data": {
      "image/png": "[encoded data removed]",
      "text/plain": [
       "<Figure size 800x600 with 1 Axes>"
      ]
     },
     "metadata": {},
     "output_type": "display_data"
    }
   ],
   "source": [
    "# Confusion Matrix Visualization\n",
    "conf_matrix = confusion_matrix(y_test, y_pred)\n",
    "plt.figure(figsize=(8, 6))\n",
    "sns.heatmap(conf_matrix, annot=True, fmt=\"d\", cmap=\"Blues\", cbar=False)\n",
    "plt.xlabel(\"Predicted\")\n",
    "plt.ylabel(\"Actual\")\n",
    "plt.title(\"Confusion Matrix\")\n",
    "plt.show()"
   ]
  },
  {
   "cell_type": "markdown",
   "id": "01146540",
   "metadata": {},
   "source": [
    "<font color='gray'> \n",
    "\n",
    "## KNN\n",
    "\n",
    "</font>\n"
   ]
  },
  {
   "cell_type": "markdown",
   "id": "3e4164e4",
   "metadata": {},
   "source": [
    "K-Nearest Neighbors is a simple yet effective non-parametric algorithm used for both classification and regression tasks. It makes predictions based on the majority class or average of the k-nearest data points in the feature space. KNN doesn't involve model training, storing the entire dataset for prediction, and its performance heavily relies on the choice of k and distance metrics."
   ]
  },
  {
   "cell_type": "code",
   "execution_count": 59,
   "id": "781b229f",
   "metadata": {},
   "outputs": [
    {
     "name": "stdout",
     "output_type": "stream",
     "text": [
      "Accuracy of the K-Nearest Neighbors (KNN) Classifier: 0.8426966292134831\n"
     ]
    }
   ],
   "source": [
    "from sklearn.neighbors import KNeighborsClassifier\n",
    "\n",
    "# Initialize the K-Nearest Neighbors Classifier (KNN)\n",
    "model_knn = KNeighborsClassifier()\n",
    "\n",
    "# Fit the KNN model on the training data\n",
    "model_knn.fit(X_train, y_train)\n",
    "\n",
    "# Predict on the validation set using KNN\n",
    "y_pred = model_knn.predict(X_test)\n",
    "\n",
    "# Calculate the accuracy of the KNN model\n",
    "knn_accuracy = accuracy_score(y_test, y_pred)\n",
    "print(\"Accuracy of the K-Nearest Neighbors (KNN) Classifier:\", knn_accuracy)"
   ]
  },
  {
   "cell_type": "code",
   "execution_count": 60,
   "id": "fbe7d645",
   "metadata": {},
   "outputs": [
    {
     "name": "stdout",
     "output_type": "stream",
     "text": [
      "\n",
      "Classification Report:\n",
      "              precision    recall  f1-score   support\n",
      "\n",
      "           0       0.87      0.87      0.87       104\n",
      "           1       0.81      0.81      0.81        74\n",
      "\n",
      "    accuracy                           0.84       178\n",
      "   macro avg       0.84      0.84      0.84       178\n",
      "weighted avg       0.84      0.84      0.84       178\n",
      "\n"
     ]
    }
   ],
   "source": [
    "# Generating the classification report\n",
    "class_report = classification_report(y_test, y_pred)\n",
    "print(\"\\nClassification Report:\")\n",
    "print(class_report)"
   ]
  },
  {
   "cell_type": "code",
   "execution_count": 61,
   "id": "1240b9da",
   "metadata": {},
   "outputs": [
    {
     "data": {
      "image/png": "[encoded data removed]",
      "text/plain": [
       "<Figure size 800x600 with 1 Axes>"
      ]
     },
     "metadata": {},
     "output_type": "display_data"
    }
   ],
   "source": [
    "# Confusion Matrix Visualization\n",
    "conf_matrix = confusion_matrix(y_test, y_pred)\n",
    "plt.figure(figsize=(8, 6))\n",
    "sns.heatmap(conf_matrix, annot=True, fmt=\"d\", cmap=\"Blues\", cbar=False)\n",
    "plt.xlabel(\"Predicted\")\n",
    "plt.ylabel(\"Actual\")\n",
    "plt.title(\"Confusion Matrix\")\n",
    "plt.show()"
   ]
  },
  {
   "cell_type": "markdown",
   "id": "647bb20e",
   "metadata": {},
   "source": [
    "<font color='gray'> \n",
    "\n",
    "## Decision Tree\n",
    "\n",
    "</font>\n"
   ]
  },
  {
   "cell_type": "markdown",
   "id": "b2b88f4c",
   "metadata": {},
   "source": [
    "Decision Tree is a versatile supervised learning algorithm used for both classification and regression tasks. It partitions the feature space into segments based on the features' values, forming a tree-like structure to make predictions. Each node in the tree represents a feature and a decision point, optimizing to minimize impurity or maximize information gain at each step. Decision Trees are easy to interpret and visualize, making them valuable in understanding feature importance."
   ]
  },
  {
   "cell_type": "code",
   "execution_count": 62,
   "id": "8795f493",
   "metadata": {},
   "outputs": [
    {
     "name": "stdout",
     "output_type": "stream",
     "text": [
      "Accuracy of the Decision Tree model: 0.797752808988764\n"
     ]
    }
   ],
   "source": [
    "from sklearn.tree import DecisionTreeClassifier  \n",
    "\n",
    "# Initialize the Decision Tree Classifier\n",
    "model = DecisionTreeClassifier()  \n",
    "\n",
    "# Fitting the model on the training data\n",
    "model.fit(X_train, y_train)\n",
    "\n",
    "# Predicting on the test data\n",
    "y_pred = model.predict(X_test)\n",
    "\n",
    "# Calculating the accuracy\n",
    "decision_tree_accuracy = accuracy_score(y_test, y_pred)\n",
    "print(\"Accuracy of the Decision Tree model:\", decision_tree_accuracy)\n"
   ]
  },
  {
   "cell_type": "code",
   "execution_count": 63,
   "id": "16382465",
   "metadata": {},
   "outputs": [
    {
     "name": "stdout",
     "output_type": "stream",
     "text": [
      "\n",
      "Classification Report:\n",
      "              precision    recall  f1-score   support\n",
      "\n",
      "           0       0.81      0.85      0.83       104\n",
      "           1       0.77      0.73      0.75        74\n",
      "\n",
      "    accuracy                           0.80       178\n",
      "   macro avg       0.79      0.79      0.79       178\n",
      "weighted avg       0.80      0.80      0.80       178\n",
      "\n"
     ]
    }
   ],
   "source": [
    "# Generating the classification report\n",
    "class_report = classification_report(y_test, y_pred)\n",
    "print(\"\\nClassification Report:\")\n",
    "print(class_report)"
   ]
  },
  {
   "cell_type": "code",
   "execution_count": 64,
   "id": "ca603be8",
   "metadata": {},
   "outputs": [
    {
     "data": {
      "image/png": "[encoded data removed]",
      "text/plain": [
       "<Figure size 800x600 with 1 Axes>"
      ]
     },
     "metadata": {},
     "output_type": "display_data"
    }
   ],
   "source": [
    "# Confusion Matrix Visualization\n",
    "conf_matrix = confusion_matrix(y_test, y_pred)\n",
    "plt.figure(figsize=(8, 6))\n",
    "sns.heatmap(conf_matrix, annot=True, fmt=\"d\", cmap=\"Blues\", cbar=False)\n",
    "plt.xlabel(\"Predicted\")\n",
    "plt.ylabel(\"Actual\")\n",
    "plt.title(\"Confusion Matrix\")\n",
    "plt.show()"
   ]
  },
  {
   "cell_type": "markdown",
   "id": "93f13f1c",
   "metadata": {},
   "source": [
    "<font color='gray'> \n",
    "\n",
    "## Naive Bayes\n",
    "\n",
    "</font>\n"
   ]
  },
  {
   "cell_type": "markdown",
   "id": "fb370519",
   "metadata": {},
   "source": [
    "Naive Bayes is a family of simple probabilistic classifiers based on Bayes' theorem, assuming independence among features. Despite its \"naive\" assumption, it often performs well in classification tasks. It calculates the probability of an observation belonging to a certain class using the probability of features occurring in that class. Naive Bayes is computationally efficient, particularly for large datasets with high-dimensional features.\n"
   ]
  },
  {
   "cell_type": "code",
   "execution_count": 65,
   "id": "20bd2136",
   "metadata": {},
   "outputs": [
    {
     "name": "stdout",
     "output_type": "stream",
     "text": [
      "Accuracy of the Gaussian Naive Bayes model: 0.7921348314606742\n"
     ]
    }
   ],
   "source": [
    "from sklearn.naive_bayes import GaussianNB  \n",
    "\n",
    "# Initialize the Gaussian Naive Bayes Classifier\n",
    "model = GaussianNB()\n",
    "\n",
    "# Fitting the model on the training data\n",
    "model.fit(X_train, y_train)\n",
    "\n",
    "# Predicting on the test data\n",
    "y_pred = model.predict(X_test)\n",
    "\n",
    "# Calculating the accuracy\n",
    "naive_bayes_accuracy = accuracy_score(y_test, y_pred)\n",
    "print(\"Accuracy of the Gaussian Naive Bayes model:\", naive_bayes_accuracy)\n"
   ]
  },
  {
   "cell_type": "code",
   "execution_count": 66,
   "id": "d0e8305e",
   "metadata": {},
   "outputs": [
    {
     "name": "stdout",
     "output_type": "stream",
     "text": [
      "\n",
      "Classification Report:\n",
      "              precision    recall  f1-score   support\n",
      "\n",
      "           0       0.85      0.79      0.82       104\n",
      "           1       0.73      0.80      0.76        74\n",
      "\n",
      "    accuracy                           0.79       178\n",
      "   macro avg       0.79      0.79      0.79       178\n",
      "weighted avg       0.80      0.79      0.79       178\n",
      "\n"
     ]
    }
   ],
   "source": [
    "# Generating the classification report\n",
    "class_report = classification_report(y_test, y_pred)\n",
    "print(\"\\nClassification Report:\")\n",
    "print(class_report)"
   ]
  },
  {
   "cell_type": "code",
   "execution_count": 67,
   "id": "29ad1bb3",
   "metadata": {},
   "outputs": [
    {
     "data": {
      "image/png": "[encoded data removed]",
      "text/plain": [
       "<Figure size 800x600 with 1 Axes>"
      ]
     },
     "metadata": {},
     "output_type": "display_data"
    }
   ],
   "source": [
    "# Confusion Matrix Visualization\n",
    "conf_matrix = confusion_matrix(y_test, y_pred)\n",
    "plt.figure(figsize=(8, 6))\n",
    "sns.heatmap(conf_matrix, annot=True, fmt=\"d\", cmap=\"Blues\", cbar=False)\n",
    "plt.xlabel(\"Predicted\")\n",
    "plt.ylabel(\"Actual\")\n",
    "plt.title(\"Confusion Matrix\")\n",
    "plt.show()"
   ]
  },
  {
   "cell_type": "code",
   "execution_count": 68,
   "id": "879631ce",
   "metadata": {},
   "outputs": [
    {
     "data": {
      "text/html": [
       "<div>\n",
       "<style scoped>\n",
       "    .dataframe tbody tr th:only-of-type {\n",
       "        vertical-align: middle;\n",
       "    }\n",
       "\n",
       "    .dataframe tbody tr th {\n",
       "        vertical-align: top;\n",
       "    }\n",
       "\n",
       "    .dataframe thead th {\n",
       "        text-align: right;\n",
       "    }\n",
       "</style>\n",
       "<table border=\"1\" class=\"dataframe\">\n",
       "  <thead>\n",
       "    <tr style=\"text-align: right;\">\n",
       "      <th></th>\n",
       "      <th>Model Name</th>\n",
       "      <th>Accuracy</th>\n",
       "    </tr>\n",
       "  </thead>\n",
       "  <tbody>\n",
       "    <tr>\n",
       "      <th>2</th>\n",
       "      <td>Gradient Boosting</td>\n",
       "      <td>0.8483</td>\n",
       "    </tr>\n",
       "    <tr>\n",
       "      <th>3</th>\n",
       "      <td>SVM</td>\n",
       "      <td>0.8483</td>\n",
       "    </tr>\n",
       "    <tr>\n",
       "      <th>4</th>\n",
       "      <td>KNN</td>\n",
       "      <td>0.8427</td>\n",
       "    </tr>\n",
       "    <tr>\n",
       "      <th>1</th>\n",
       "      <td>Random Forest</td>\n",
       "      <td>0.8258</td>\n",
       "    </tr>\n",
       "    <tr>\n",
       "      <th>0</th>\n",
       "      <td>Logistic Regression</td>\n",
       "      <td>0.8146</td>\n",
       "    </tr>\n",
       "    <tr>\n",
       "      <th>5</th>\n",
       "      <td>Decision Tree</td>\n",
       "      <td>0.7978</td>\n",
       "    </tr>\n",
       "    <tr>\n",
       "      <th>6</th>\n",
       "      <td>Naive Bayes</td>\n",
       "      <td>0.7921</td>\n",
       "    </tr>\n",
       "  </tbody>\n",
       "</table>\n",
       "</div>"
      ],
      "text/plain": [
       "            Model Name  Accuracy\n",
       "2  Gradient Boosting   0.8483   \n",
       "3  SVM                 0.8483   \n",
       "4  KNN                 0.8427   \n",
       "1  Random Forest       0.8258   \n",
       "0  Logistic Regression 0.8146   \n",
       "5  Decision Tree       0.7978   \n",
       "6  Naive Bayes         0.7921   "
      ]
     },
     "execution_count": 68,
     "metadata": {},
     "output_type": "execute_result"
    }
   ],
   "source": [
    "# For train data\n",
    "model_accuracies_train = {\n",
    "    'Logistic Regression': logistic_regression_accuracy,\n",
    "    'Random Forest': random_forest_accuracy,\n",
    "    'Gradient Boosting': gboost_accuracy,\n",
    "    'SVM': svm_accuracy,\n",
    "    'KNN': knn_accuracy,\n",
    "    'Decision Tree': decision_tree_accuracy,\n",
    "    'Naive Bayes': naive_bayes_accuracy\n",
    "}\n",
    "\n",
    "accuracy_df = pd.DataFrame(list(model_accuracies_train.items()), columns=['Model Name', 'Accuracy'])\n",
    "\n",
    "accuracy_df = accuracy_df.sort_values(by='Accuracy', ascending=False)\n",
    "\n",
    "accuracy_df"
   ]
  },
  {
   "cell_type": "markdown",
   "id": "bd201c48",
   "metadata": {},
   "source": [
    "### Test Dataset (Result after submitting .csv file)"
   ]
  },
  {
   "cell_type": "code",
   "execution_count": 69,
   "id": "a4b681d0",
   "metadata": {},
   "outputs": [],
   "source": [
    "Survived = model_lr.predict(df_test)"
   ]
  },
  {
   "cell_type": "code",
   "execution_count": 70,
   "id": "887eb72d",
   "metadata": {},
   "outputs": [],
   "source": [
    "PassengerId = df_test.index"
   ]
  },
  {
   "cell_type": "code",
   "execution_count": 71,
   "id": "3ca2bf32",
   "metadata": {},
   "outputs": [],
   "source": [
    "Result1 = pd.DataFrame({'PassengerId': PassengerId, 'Survived': Survived})"
   ]
  },
  {
   "cell_type": "code",
   "execution_count": 72,
   "id": "069480ec",
   "metadata": {},
   "outputs": [],
   "source": [
    "Result1.to_csv('result.csv', index=False)"
   ]
  },
  {
   "cell_type": "code",
   "execution_count": 73,
   "id": "85e6b39b",
   "metadata": {},
   "outputs": [
    {
     "data": {
      "text/html": [
       "<div>\n",
       "<style scoped>\n",
       "    .dataframe tbody tr th:only-of-type {\n",
       "        vertical-align: middle;\n",
       "    }\n",
       "\n",
       "    .dataframe tbody tr th {\n",
       "        vertical-align: top;\n",
       "    }\n",
       "\n",
       "    .dataframe thead th {\n",
       "        text-align: right;\n",
       "    }\n",
       "</style>\n",
       "<table border=\"1\" class=\"dataframe\">\n",
       "  <thead>\n",
       "    <tr style=\"text-align: right;\">\n",
       "      <th></th>\n",
       "      <th>Model Name</th>\n",
       "      <th>Accuracy</th>\n",
       "    </tr>\n",
       "  </thead>\n",
       "  <tbody>\n",
       "    <tr>\n",
       "      <th>2</th>\n",
       "      <td>Gradient Boosting</td>\n",
       "      <td>0.7775</td>\n",
       "    </tr>\n",
       "    <tr>\n",
       "      <th>3</th>\n",
       "      <td>SVM</td>\n",
       "      <td>0.7775</td>\n",
       "    </tr>\n",
       "    <tr>\n",
       "      <th>1</th>\n",
       "      <td>Random Forest</td>\n",
       "      <td>0.7679</td>\n",
       "    </tr>\n",
       "    <tr>\n",
       "      <th>0</th>\n",
       "      <td>Logistic Regression</td>\n",
       "      <td>0.7584</td>\n",
       "    </tr>\n",
       "    <tr>\n",
       "      <th>4</th>\n",
       "      <td>KNN</td>\n",
       "      <td>0.7273</td>\n",
       "    </tr>\n",
       "  </tbody>\n",
       "</table>\n",
       "</div>"
      ],
      "text/plain": [
       "            Model Name  Accuracy\n",
       "2  Gradient Boosting   0.7775   \n",
       "3  SVM                 0.7775   \n",
       "1  Random Forest       0.7679   \n",
       "0  Logistic Regression 0.7584   \n",
       "4  KNN                 0.7273   "
      ]
     },
     "execution_count": 73,
     "metadata": {},
     "output_type": "execute_result"
    }
   ],
   "source": [
    "# For test data (After submitting .csv file the accuracies)\n",
    "model_accuracies = {\n",
    "    'Logistic Regression': 0.75837,\n",
    "    'Random Forest': 0.76794,\n",
    "    'Gradient Boosting': 0.77751,\n",
    "    'SVM': 0.77751,\n",
    "    'KNN': 0.72727,\n",
    "}\n",
    "\n",
    "accuracy_df = pd.DataFrame(list(model_accuracies.items()), columns=['Model Name', 'Accuracy'])\n",
    "\n",
    "accuracy_df = accuracy_df.sort_values(by='Accuracy', ascending=False)\n",
    "\n",
    "accuracy_df"
   ]
  },
  {
   "cell_type": "markdown",
   "id": "af74ed24",
   "metadata": {},
   "source": [
    "### Conclusion:\n",
    "\n",
    "On the unknown dataset (i.e., test dataset), the achieved accuracy is 77.8%. While this accuracy isn't very high, it's acceptable for the first competition submission. However, there is ample room for improvement in our overall results.\n",
    "\n",
    "#### Improving Accuracy:\n",
    "To enhance our performance, it's crucial to focus on data cleaning and data wrangling processes. These steps can significantly impact the quality of our predictions and potentially boost our model's accuracy.\n",
    "\n",
    "#### Future Steps:\n",
    "1. **Feature Engineering:** Explore additional features that might capture more meaningful patterns in the data.\n",
    "2. **Model Tuning:** Fine-tune hyperparameters and possibly consider more advanced algorithms.\n",
    "3. **Ensemble Methods:** Experiment with ensemble techniques to combine multiple models for better predictive performance.\n",
    "\n",
    "#### Seeking Feedback and Offering Help:\n",
    "Your suggestions and insights on improving accuracy are highly valued! If you have any suggestions or require clarification on this kernel, please feel free to comment. I'm more than happy to assist or discuss further. Collaboration leads to better outcomes, and your input is appreciated.\n"
   ]
  },
  {
   "cell_type": "markdown",
   "id": "e0d5ad56",
   "metadata": {},
   "source": [
    "### If this Kernel helped you in any way, some <font color=\"red\"><b>UPVOTES</b></font> would be very much appreciated"
   ]
  },
  {
   "cell_type": "code",
   "execution_count": null,
   "id": "2647052d",
   "metadata": {},
   "outputs": [],
   "source": []
  }
 ],
 "metadata": {
  "kernelspec": {
   "display_name": "Python 3 (ipykernel)",
   "language": "python",
   "name": "python3"
  },
  "language_info": {
   "codemirror_mode": {
    "name": "ipython",
    "version": 3
   },
   "file_extension": ".py",
   "mimetype": "text/x-python",
   "name": "python",
   "nbconvert_exporter": "python",
   "pygments_lexer": "ipython3",
   "version": "3.11.4"
  }
 },
 "nbformat": 4,
 "nbformat_minor": 5
}
